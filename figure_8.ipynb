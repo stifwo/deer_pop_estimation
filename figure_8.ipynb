{
 "cells": [
  {
   "cell_type": "code",
   "execution_count": 1,
   "id": "adjusted-adolescent",
   "metadata": {},
   "outputs": [],
   "source": [
    "# %load_ext lab_black"
   ]
  },
  {
   "cell_type": "code",
   "execution_count": 2,
   "id": "amber-perspective",
   "metadata": {},
   "outputs": [],
   "source": [
    "import numpy as np\n",
    "import pandas as pd\n",
    "import matplotlib.pyplot as plt\n",
    "import matplotlib.ticker as ticker\n",
    "\n",
    "from matplotlib.ticker import FormatStrFormatter\n",
    "from datetime import datetime\n",
    "from IPython.core.interactiveshell import InteractiveShell\n",
    "\n",
    "InteractiveShell.ast_node_interactivity = \"all\"\n",
    "\n",
    "import texttable\n",
    "import gc\n",
    "import timeit\n",
    "import sys\n",
    "import os"
   ]
  },
  {
   "cell_type": "markdown",
   "id": "spiritual-butter",
   "metadata": {},
   "source": [
    "# Loading reported and synthetic data"
   ]
  },
  {
   "cell_type": "code",
   "execution_count": 3,
   "id": "joint-window",
   "metadata": {},
   "outputs": [],
   "source": [
    "# Revoking stored reported data\n",
    "# https://ipython.org/ipython-doc/rel-0.12/config/extensions/storemagic.html\n",
    "\n",
    "%store -r data_Averoy\n",
    "%store -r data_Tingvoll\n",
    "%store -r data_Surnadal\n",
    "%store -r data_Sunndal\n",
    "%store -r data_Vestnes\n",
    "%store -r data_Laerdal"
   ]
  },
  {
   "cell_type": "code",
   "execution_count": 4,
   "id": "little-conversion",
   "metadata": {},
   "outputs": [],
   "source": [
    "# Revoking top hits frames created by the seen deer estimator\n",
    "save_dir = \"synthetic_data/\"\n",
    "# With option for emigration\n",
    "top_hits_Averoy_seen_deer = pd.read_pickle(save_dir + \"top_hits_Averoy_seen_deer.pkl\")\n",
    "top_hits_Tingvoll_seen_deer = pd.read_pickle(\n",
    "    save_dir + \"top_hits_Tingvoll_seen_deer.pkl\"\n",
    ")\n",
    "top_hits_Surnadal_seen_deer = pd.read_pickle(\n",
    "    save_dir + \"top_hits_Surnadal_seen_deer.pkl\"\n",
    ")\n",
    "top_hits_Sunndal_seen_deer = pd.read_pickle(save_dir + \"top_hits_Sunndal_seen_deer.pkl\")\n",
    "top_hits_Vestnes_seen_deer = pd.read_pickle(save_dir + \"top_hits_Vestnes_seen_deer.pkl\")\n",
    "top_hits_Laerdal_seen_deer = pd.read_pickle(save_dir + \"top_hits_Laerdal_seen_deer.pkl\")"
   ]
  },
  {
   "cell_type": "code",
   "execution_count": 5,
   "id": "funded-minute",
   "metadata": {},
   "outputs": [],
   "source": [
    "# Data needed for plotting the figures below\n",
    "compare = \"before_hunt\"\n",
    "municipalities = [\"Averoy\", \"Tingvoll\", \"Surnadal\", \"Sunndal\", \"Vestnes\", \"Laerdal\"]\n",
    "data_municipality = [\n",
    "    data_Averoy,\n",
    "    data_Tingvoll,\n",
    "    data_Surnadal,\n",
    "    data_Sunndal,\n",
    "    data_Vestnes,\n",
    "    data_Laerdal,\n",
    "]\n",
    "top_hits_seen_deer = [\n",
    "    top_hits_Averoy_seen_deer,\n",
    "    top_hits_Tingvoll_seen_deer,\n",
    "    top_hits_Surnadal_seen_deer,\n",
    "    top_hits_Sunndal_seen_deer,\n",
    "    top_hits_Vestnes_seen_deer,\n",
    "    top_hits_Laerdal_seen_deer,\n",
    "]\n",
    "\n",
    "afont = {\"fontname\": \"Arial\"}"
   ]
  },
  {
   "cell_type": "markdown",
   "id": "eae9a217-840c-48ad-a699-33f4755defd2",
   "metadata": {},
   "source": [
    "# Figure 8 - Effect of varying the observation vector"
   ]
  },
  {
   "cell_type": "markdown",
   "id": "edd8f6c9-a5ae-4564-b6c7-0a482b5c682d",
   "metadata": {},
   "source": [
    "## Find median tot_pop_ah from the top_hits frames"
   ]
  },
  {
   "cell_type": "code",
   "execution_count": 6,
   "id": "2b1735fa-fd8f-413e-84ef-c7bbde09ee56",
   "metadata": {
    "tags": []
   },
   "outputs": [
    {
     "name": "stdout",
     "output_type": "stream",
     "text": [
      "median_tot_pop_ah =  [1022.0, 2317.0, 1411.0, 1871.5, 2020.0, 1251.5]\n"
     ]
    }
   ],
   "source": [
    "median_tot_pop_ah = []\n",
    "\n",
    "for q in range(6):\n",
    "    median = top_hits_seen_deer[q]['tot_pop_ah'].median()\n",
    "    median_tot_pop_ah.append(median)\n",
    "print(\"median_tot_pop_ah = \", median_tot_pop_ah)"
   ]
  },
  {
   "cell_type": "markdown",
   "id": "97eeee07-a0ca-4bb3-8b5a-29820acf8986",
   "metadata": {},
   "source": [
    "## Plot the distribution of predicted median tot_pop_ah for 40 synthetic observation records"
   ]
  },
  {
   "cell_type": "code",
   "execution_count": 7,
   "id": "aa60e127-98e9-41a0-9081-b5f5e6e940bd",
   "metadata": {},
   "outputs": [],
   "source": [
    "# Numbers come from running in parallel 4 identical versions of rss_seen_deer_shuffle 10 times each\n",
    "\n",
    "tot_pop_ah_20 = np.array([[1331. , 2565. , 1520.5, 2209.5, 2260. , 1454.5],\n",
    "       [1014.5, 2444. , 1505. , 1540. , 1565. , 1306. ],\n",
    "       [1102. , 2881. , 1406. , 1791.5, 2146. , 1376.5],\n",
    "       [1245. , 2328.5, 2518.5, 1763. , 2319.5, 1521.5],\n",
    "       [1251.5, 2678. , 1467. , 1813.5, 2291. , 1695.5],\n",
    "       [ 965. , 2300. , 1370.5, 1761.5, 2398.5, 1803. ],\n",
    "       [ 990. , 2239.5, 1794.5, 1589. , 1987.5, 1410.5],\n",
    "       [1094.5, 2414. , 1394. , 1794.5, 1820.5, 1590.5],\n",
    "       [1100.5, 2054.5, 1429.5, 1607. , 2070.5, 1383.5],\n",
    "       [1145. , 2342. , 1542.5, 1620.5, 1884. , 1204. ],\n",
    "       [1022. , 2505. , 1445. , 2221.5, 1791.5, 1560.5],\n",
    "       [1039.5, 2118.5, 1513. , 1592. , 2240.5, 1483. ],\n",
    "       [1027. , 2237. , 1264.5, 1630.5, 1804.5, 1363.5],\n",
    "       [1129.5, 2214.5, 1323.5, 2185. , 1850. , 1686. ],\n",
    "       [1013. , 2242.5, 1521. , 1680. , 2061.5, 1843. ],\n",
    "       [1013. , 2660. , 2496. , 1900.5, 2089.5, 1460. ],\n",
    "       [1020. , 2298.5, 1574. , 1823.5, 2465. , 1306. ],\n",
    "       [1099.5, 1988. , 1490. , 1584.5, 2264. , 1395. ],\n",
    "       [1032. , 2200.5, 2135.5, 1942. , 2185. , 1912. ],\n",
    "       [1051.5, 2103. , 1534. , 2272.5, 1620.5, 1970. ],\n",
    "       [1000. , 2509.5, 1494. , 2086. , 1678.5, 1255.5],\n",
    "       [1198.5, 2393.5, 1632.5, 1805.5, 2250.5, 1850. ],\n",
    "       [ 983. , 2715.5, 1686. , 1966.5, 1749.5, 1253.5],\n",
    "       [ 955. , 2303. , 1413.5, 1754.5, 2277.5, 1539. ],\n",
    "       [1074. , 2444. , 1539. , 1930.5, 1691.5, 1651.5],\n",
    "       [1021.5, 2423. , 1283. , 2604. , 2035.5, 1554.5],\n",
    "       [1014. , 2484.5, 1497.5, 1498.5, 1721. , 1381.5],\n",
    "       [ 999. , 2985.5, 1589.5, 1644. , 1832. , 1291.5],\n",
    "       [1078. , 2215. , 1503.5, 1797. , 2641. , 1322. ],\n",
    "       [1059.5, 2252. , 1386.5, 1806. , 2324.5, 1535. ],\n",
    "       [1126.5, 2417. , 1422. , 1636.5, 2069.5, 1938.5],\n",
    "       [1066.5, 2132. , 1591.5, 1822. , 1727. , 1546.5],\n",
    "       [1129.5, 3115. , 1395. , 1860. , 2694. , 1538. ],\n",
    "       [ 997. , 2187. , 1365.5, 1904.5, 1739.5, 2144.5],\n",
    "       [1088.5, 2230. , 1452. , 1645. , 2296. , 1645. ],\n",
    "       [ 961.5, 2824.5, 1646.5, 1612.5, 1653. , 1534.5],\n",
    "       [1135.5, 2441.5, 1794.5, 2129. , 2331.5, 1268.5],\n",
    "       [1180. , 2339.5, 1366. , 2491. , 1874. , 1476. ],\n",
    "       [1018.5, 2245.5, 1650.5, 1871.5, 2063. , 1322. ],\n",
    "       [1008.5, 2402. , 1450.5, 1967. , 2057.5, 1297. ]])"
   ]
  },
  {
   "cell_type": "code",
   "execution_count": 8,
   "id": "f609e28a-6e28-4099-9b07-1f0858c64063",
   "metadata": {
    "tags": []
   },
   "outputs": [
    {
     "name": "stdout",
     "output_type": "stream",
     "text": [
      "CPU times: user 390 ms, sys: 46.9 ms, total: 437 ms\n",
      "Wall time: 225 ms\n"
     ]
    },
    {
     "data": {
      "image/png": "[encoded data removed]",
      "text/plain": [
       "<Figure size 360x360 with 1 Axes>"
      ]
     },
     "metadata": {
      "needs_background": "light"
     },
     "output_type": "display_data"
    }
   ],
   "source": [
    "%%time\n",
    "fig, ax = plt.subplots(ncols=1, nrows=1, figsize=(5,5))\n",
    "ax.boxplot(tot_pop_ah_20[:][:])\n",
    "x = np.arange(1,7)\n",
    "ax.plot(x, median_tot_pop_ah, 'ro')\n",
    "ax.set_ylabel(\"Population size Dec. 31, 2021\", fontsize=14)\n",
    "#ax.yaxis.set_major_formatter(formatter)\n",
    "ax.set_xticks(x)\n",
    "ax.set_xticklabels([\"Averøy\", \"Tingvoll\", \"Surnadal\", \"Sunndal\", \"Vestnes\", \"Lærdal\"], rotation=\"vertical\")\n",
    "fig.tight_layout()\n",
    "save_dir = \"figures/\"\n",
    "plt.savefig(save_dir + \"Figure_8.pdf\", dpi=600, bbox_inches=\"tight\")\n",
    "pass;"
   ]
  }
 ],
 "metadata": {
  "kernelspec": {
   "display_name": "Python 3",
   "language": "python",
   "name": "python3"
  },
  "language_info": {
   "codemirror_mode": {
    "name": "ipython",
    "version": 3
   },
   "file_extension": ".py",
   "mimetype": "text/x-python",
   "name": "python",
   "nbconvert_exporter": "python",
   "pygments_lexer": "ipython3",
   "version": "3.8.5"
  }
 },
 "nbformat": 4,
 "nbformat_minor": 5
}
