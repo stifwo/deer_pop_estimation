{
 "cells": [
  {
   "cell_type": "code",
   "execution_count": 1,
   "id": "116ddb50-5d5c-4e7f-ad74-266696055ec0",
   "metadata": {
    "tags": []
   },
   "outputs": [],
   "source": [
    "import numpy as np\n",
    "import pandas as pd\n",
    "import matplotlib.pyplot as plt\n",
    "import pymannkendall as mk\n",
    "from sympy import *\n",
    "\n",
    "\n",
    "import gc\n",
    "import timeit\n",
    "import sys\n",
    "import os\n",
    "\n",
    "from random import normalvariate\n",
    "from IPython.core.interactiveshell import InteractiveShell\n",
    "\n",
    "InteractiveShell.ast_node_interactivity = \"all\""
   ]
  },
  {
   "cell_type": "markdown",
   "id": "07ae496f-811b-4908-a904-738ee98aa0db",
   "metadata": {
    "tags": []
   },
   "source": [
    "# Uniform distribution - constant population\n",
    "\n",
    "### Not allowing trends in the observation data"
   ]
  },
  {
   "cell_type": "markdown",
   "id": "5ce42bfa-c88e-4c65-ba5d-12e234335126",
   "metadata": {},
   "source": [
    "## Make the set of num_rep observation vectors containing no trends"
   ]
  },
  {
   "cell_type": "code",
   "execution_count": 2,
   "id": "978fce05-5a47-42d7-bfb1-183f3e80801b",
   "metadata": {
    "tags": []
   },
   "outputs": [],
   "source": [
    "MK_test = 'exploding'\n",
    "counter = 0\n",
    "N_0 = 1000\n",
    "T = 17\n",
    "num_rep = 1000\n",
    "alfa = 0.5 #0.35\n",
    "e = np.zeros((num_rep,T))\n",
    "while (MK_test != 'no trend') | (counter < num_rep):\n",
    "    synt_obs = np.zeros(T)\n",
    "    for i in range(T):\n",
    "        synt_obs[i] = np.random.uniform(N_0 - alfa*N_0, N_0 + alfa*N_0)\n",
    "\n",
    "    test_stat = mk.original_test(synt_obs)\n",
    "    MK_test = test_stat[0]\n",
    "    if MK_test == 'no trend':\n",
    "        e[counter,:] = synt_obs/N_0\n",
    "        counter = counter + 1  \n",
    "\n",
    "# Scale synt_obs around 1.0\n",
    "#e = synt_obs / np.mean(synt_obs)\n"
   ]
  },
  {
   "cell_type": "markdown",
   "id": "0e0de76d-a5d0-4629-a007-fb83c60640e0",
   "metadata": {
    "tags": []
   },
   "source": [
    "## Increasing beta"
   ]
  },
  {
   "cell_type": "code",
   "execution_count": 3,
   "id": "3e014643-b187-4a72-b88c-5ee94926e591",
   "metadata": {
    "tags": []
   },
   "outputs": [
    {
     "name": "stdout",
     "output_type": "stream",
     "text": [
      "Number observation series showing trends out of 1000 samples: [0. 0. 0. 0. 0. 0.]\n",
      "Population size at t = T [ 999. 2109. 3218. 4327. 5437. 6546.]\n",
      "95% quantile of the beta = 0 population: 1.3678966924817393\n",
      "5% quantiles of the beta > 0 populations: 1.1234935692911392 1.393507109903468 1.5893099179014776 1.7334339299292634 1.8433090732030277\n",
      "Upper bound of N_0 interval = ( 1.393507109903468 )\n"
     ]
    },
    {
     "data": {
      "image/png": "[encoded data removed]",
      "text/plain": [
       "<Figure size 432x432 with 1 Axes>"
      ]
     },
     "metadata": {
      "needs_background": "light"
     },
     "output_type": "display_data"
    }
   ],
   "source": [
    "r = 0.2\n",
    "T = 17\n",
    "N = np.ones(T+1)\n",
    "N[0] = 1000\n",
    "h = 0.2\n",
    "num_rep = 1000\n",
    "L2 = np.zeros((6,num_rep))\n",
    "end_pop = np.zeros((6))\n",
    "beta_val = [0, 0.05, 0.1, 0.15, 0.2, 0.25]\n",
    "\n",
    "num_trends = np.zeros(6)\n",
    "counter = 0\n",
    "for beta in beta_val:\n",
    "    count_trends = 0\n",
    "    for k in range(num_rep):\n",
    "        for t in range(1,T+1):\n",
    "            index = np.arange(0,t)\n",
    "            h_array = np.ones(t)\n",
    "            h_sum = np.sum((h_array*(1+r))**index)  \n",
    "            N[t] = N[0]*((1+beta)*(1+r)**t - h*h_sum)\n",
    "            if N[t] < 0:\n",
    "                N[t] = 0\n",
    "        \n",
    "        # Record end population sizes\n",
    "        end_pop[counter] = int(N[-1])\n",
    "        \n",
    "        # M-K test\n",
    "        test_stat = mk.original_test(e[k,:])\n",
    "        if test_stat[0] != 'no trend':\n",
    "            count_trends = count_trends+1\n",
    "        \n",
    "        # Calculate scaling factor s\n",
    "        s = np.sum(np.multiply(N[1:], e[k,:])) / np.sum(\n",
    "                    np.multiply(N[1:],N[1:]))\n",
    "        \n",
    "        L2[counter,k] = (np.sum((s*N[1:] - e[k,:])**2))**(1/2)\n",
    "    num_trends[counter] = count_trends\n",
    "    counter = counter + 1\n",
    "L2_00 = L2\n",
    "fig, ax = plt.subplots(nrows=1, ncols=1, figsize=(6, 6))\n",
    "ax.boxplot([L2[0,:], L2[1,:], L2[2,:], L2[3,:], L2[4,:], L2[5,:]])\n",
    "ax.set_xticks([1, 2, 3, 4, 5, 6], ['0', '0.05', '0.1', '0.15', '0.2', '0.25'])\n",
    "\n",
    "ax.set_xlabel(r'$\\beta$', fontsize=16)\n",
    "ax.set_ylabel('L2 distance', fontsize=16)\n",
    "\n",
    "print('Number observation series showing trends out of', num_rep,'samples:', num_trends)\n",
    "print('Population size at t = T', end_pop)\n",
    "print('95% quantile of the beta = 0 population:', np.quantile(L2[0,:], 0.95))\n",
    "print('5% quantiles of the beta > 0 populations:', np.quantile(L2[1,:], 0.05), np.quantile(L2[2,:], 0.05), np.quantile(L2[3,:], 0.05), np.quantile(L2[4,:], 0.05), np.quantile(L2[5,:], 0.05))\n",
    "\n",
    "# Find upper bound of N_0 interval\n",
    "q_set = [np.quantile(L2[1,:], 0.05), np.quantile(L2[2,:], 0.05), np.quantile(L2[3,:], 0.05), np.quantile(L2[4,:], 0.05), np.quantile(L2[5,:], 0.05)]\n",
    "res = next(x for x, val in enumerate(q_set) if val > np.quantile(L2[0,:], 0.95))\n",
    "res_00 = res\n",
    "beta_00 = beta_val[res+1]\n",
    "print('Upper bound of N_0 interval = (', q_set[res],')')\n",
    "upper_bound_uniform_00 = q_set[res]\n",
    "pass;"
   ]
  },
  {
   "cell_type": "markdown",
   "id": "79b31042-f9b0-4c7a-8274-ef4b669a52f3",
   "metadata": {},
   "source": [
    "## Decreasing beta"
   ]
  },
  {
   "cell_type": "code",
   "execution_count": 4,
   "id": "b5885225-95f2-450a-8aa7-1053ed72cb4c",
   "metadata": {
    "tags": []
   },
   "outputs": [
    {
     "name": "stdout",
     "output_type": "stream",
     "text": [
      "Number e-series showing trends out of 1000 samples: [0. 0. 0. 0. 0. 0.]\n",
      "Population size at t = T [999. 556. 112.   0.   0.   0.]\n",
      "95% quantile of the beta = 0 population: 1.3678966924817393\n",
      "5% quantiles of the beta > 0 populations: 1.0069489624079626 1.3998259857349964 1.868382136013069 2.155547343515538 2.359524901175909\n",
      "Lower bound of N_0 interval = ( 1.3998259857349964 )\n"
     ]
    },
    {
     "data": {
      "image/png": "[encoded data removed]",
      "text/plain": [
       "<Figure size 432x432 with 1 Axes>"
      ]
     },
     "metadata": {
      "needs_background": "light"
     },
     "output_type": "display_data"
    }
   ],
   "source": [
    "r = 0.2\n",
    "T = 17\n",
    "N = np.ones(T+1)\n",
    "N[0] = 1000\n",
    "h = 0.2\n",
    "num_rep = 1000\n",
    "L2 = np.zeros((6,num_rep))\n",
    "end_pop = np.zeros((6))\n",
    "beta_val = [0, -0.02, -0.04, -0.06, -0.08, -0.1]\n",
    "\n",
    "num_trends = np.zeros(6)\n",
    "counter = 0\n",
    "for beta in beta_val:\n",
    "    count_trends = 0\n",
    "    for k in range(num_rep):\n",
    "        for t in range(1,T+1):\n",
    "            index = np.arange(0,t)\n",
    "            h_array = np.ones(t)\n",
    "            h_sum = np.sum((h_array*(1+r))**index)  \n",
    "            N[t] = N[0]*((1+beta)*(1+r)**t - h*h_sum)\n",
    "            if N[t] < 0:\n",
    "                N[t] = 0\n",
    "        \n",
    "        # Record end population sizes\n",
    "        end_pop[counter] = int(N[-1])\n",
    "        \n",
    "        # M-K test\n",
    "        test_stat = mk.original_test(e[k,:])\n",
    "        if test_stat[0] != 'no trend':\n",
    "            count_trends = count_trends+1\n",
    "        \n",
    "        # Calculate scaling factor s\n",
    "        s = np.sum(np.multiply(N[1:], e[k,:])) / np.sum(\n",
    "                    np.multiply(N[1:],N[1:]))\n",
    "        \n",
    "        L2[counter,k] = (np.sum((s*N[1:] - e[k,:])**2))**(1/2)\n",
    "    num_trends[counter] = count_trends\n",
    "    counter = counter + 1\n",
    "L2_10 = L2\n",
    "fig, ax = plt.subplots(nrows=1, ncols=1, figsize=(6, 6))\n",
    "ax.boxplot([L2[0,:], L2[1,:], L2[2,:], L2[3,:], L2[4,:], L2[5,:]])\n",
    "ax.set_xticks([1, 2, 3, 4, 5, 6], ['0', '-0.02', '-0.04', '-0.06', '-0.08', '-0.1'])\n",
    "\n",
    "ax.set_xlabel(r'$\\beta$', fontsize=16)\n",
    "ax.set_ylabel('L2 distance', fontsize=16)\n",
    "\n",
    "print('Number e-series showing trends out of', num_rep,'samples:', num_trends)\n",
    "print('Population size at t = T', end_pop)\n",
    "print('95% quantile of the beta = 0 population:', np.quantile(L2[0,:], 0.95))\n",
    "print('5% quantiles of the beta > 0 populations:', np.quantile(L2[1,:], 0.05), np.quantile(L2[2,:], 0.05), np.quantile(L2[3,:], 0.05), np.quantile(L2[4,:], 0.05), np.quantile(L2[5,:], 0.05))\n",
    "\n",
    "# Find upper bound of N_0 interval\n",
    "q_set = [np.quantile(L2[1,:], 0.05), np.quantile(L2[2,:], 0.05), np.quantile(L2[3,:], 0.05), np.quantile(L2[4,:], 0.05), np.quantile(L2[5,:], 0.05)]\n",
    "res = next(x for x, val in enumerate(q_set) if val > np.quantile(L2[0,:], 0.95))\n",
    "res_10 = res\n",
    "beta_10 = beta_val[res+1]\n",
    "print('Lower bound of N_0 interval = (', q_set[res],')')\n",
    "lower_bound_uniform_10 = q_set[res]\n",
    "pass;"
   ]
  },
  {
   "cell_type": "markdown",
   "id": "19d2cabc-a517-45d4-baac-7e182d32dfc7",
   "metadata": {},
   "source": [
    "# Normal distribution - constant population\n",
    "\n",
    "### Not allowing trends in the observation data"
   ]
  },
  {
   "cell_type": "markdown",
   "id": "4e71ffda-9bb9-444d-ac51-5f5ee022e7d8",
   "metadata": {},
   "source": [
    "## Make the set of num_rep e vectors containing no trends"
   ]
  },
  {
   "cell_type": "code",
   "execution_count": 5,
   "id": "56a27276-452a-4c40-a460-5d2d508c15ae",
   "metadata": {
    "tags": []
   },
   "outputs": [],
   "source": [
    "MK_test = 'exploding'\n",
    "counter = 0\n",
    "N_0 = 1000\n",
    "T = 17\n",
    "num_rep = 1000\n",
    "c_v = 0.3 #0.2\n",
    "e = np.zeros((num_rep,T))\n",
    "while (MK_test != 'no trend') | (counter < num_rep):\n",
    "    synt_obs = np.zeros(T)\n",
    "    for i in range(T):\n",
    "        synt_obs[i] = np.random.normal(N[0], c_v*N[0])\n",
    "\n",
    "    test_stat = mk.original_test(synt_obs)\n",
    "    MK_test = test_stat[0]\n",
    "    if MK_test == 'no trend':\n",
    "        e[counter,:] = synt_obs/N_0\n",
    "        counter = counter + 1  \n"
   ]
  },
  {
   "cell_type": "markdown",
   "id": "4b177cd9-2774-42a6-aa13-05423645463a",
   "metadata": {},
   "source": [
    "## Increasing beta"
   ]
  },
  {
   "cell_type": "code",
   "execution_count": 6,
   "id": "37daf0f3-1441-4c7b-ac21-781188dd10e2",
   "metadata": {
    "tags": []
   },
   "outputs": [
    {
     "name": "stdout",
     "output_type": "stream",
     "text": [
      "Number e-series showing trends out of 1000 samples: [0. 0. 0. 0. 0. 0.]\n",
      "Population size at t = T [ 999. 2109. 3218. 4327. 5437. 6546.]\n",
      "95% quantile of the beta = 0 population: 1.5530966102933037\n",
      "5% quantiles of the beta > 0 populations: 1.090231225282479 1.3898707175261642 1.598882620877522 1.7438061151315365 1.84759037145888\n",
      "Upper bound of N_0 interval = ( 1.598882620877522 )\n"
     ]
    },
    {
     "data": {
      "image/png": "[encoded data removed]",
      "text/plain": [
       "<Figure size 432x432 with 1 Axes>"
      ]
     },
     "metadata": {
      "needs_background": "light"
     },
     "output_type": "display_data"
    }
   ],
   "source": [
    "r = 0.2\n",
    "T = 17\n",
    "N = np.ones(T+1)\n",
    "N[0] = 1000\n",
    "h = 0.2\n",
    "num_rep = 1000\n",
    "L2 = np.zeros((6,num_rep))\n",
    "end_pop = np.zeros((6))\n",
    "beta_val = [0, 0.05, 0.1, 0.15, 0.2, 0.25]\n",
    "\n",
    "num_trends = np.zeros(6)\n",
    "counter = 0\n",
    "for beta in beta_val:\n",
    "    count_trends = 0\n",
    "    for k in range(num_rep):\n",
    "        for t in range(1,T+1):\n",
    "            index = np.arange(0,t)\n",
    "            h_array = np.ones(t)\n",
    "            h_sum = np.sum((h_array*(1+r))**index)  \n",
    "            N[t] = N[0]*((1+beta)*(1+r)**t - h*h_sum)\n",
    "            if N[t] < 0:\n",
    "                N[t] = 0\n",
    "        \n",
    "        # Record end population sizes\n",
    "        end_pop[counter] = int(N[-1])\n",
    "        \n",
    "        # M-K test\n",
    "        test_stat = mk.original_test(e[k,:])\n",
    "        if test_stat[0] != 'no trend':\n",
    "            count_trends = count_trends+1\n",
    "        \n",
    "        # Calculate scaling factor s\n",
    "        s = np.sum(np.multiply(N[1:], e[k,:])) / np.sum(\n",
    "                    np.multiply(N[1:],N[1:]))\n",
    "        \n",
    "        L2[counter,k] = (np.sum((s*N[1:] - e[k,:])**2))**(1/2)\n",
    "    num_trends[counter] = count_trends\n",
    "    counter = counter + 1\n",
    "L2_01 = L2\n",
    "fig, ax = plt.subplots(nrows=1, ncols=1, figsize=(6, 6))\n",
    "ax.boxplot([L2[0,:], L2[1,:], L2[2,:], L2[3,:], L2[4,:], L2[5,:]])\n",
    "ax.set_xticks([1, 2, 3, 4, 5, 6], ['0', '0.05', '0.1', '0.15', '0.2', '0.25'])\n",
    "\n",
    "ax.set_xlabel(r'$\\beta$', fontsize=16)\n",
    "ax.set_ylabel('L2 distance', fontsize=16)\n",
    "\n",
    "print('Number e-series showing trends out of', num_rep,'samples:', num_trends)\n",
    "print('Population size at t = T', end_pop)\n",
    "print('95% quantile of the beta = 0 population:', np.quantile(L2[0,:], 0.95))\n",
    "print('5% quantiles of the beta > 0 populations:', np.quantile(L2[1,:], 0.05), np.quantile(L2[2,:], 0.05), np.quantile(L2[3,:], 0.05), np.quantile(L2[4,:], 0.05), np.quantile(L2[5,:], 0.05))\n",
    "\n",
    "# Find upper bound of N_0 interval\n",
    "q_set = [np.quantile(L2[1,:], 0.05), np.quantile(L2[2,:], 0.05), np.quantile(L2[3,:], 0.05), np.quantile(L2[4,:], 0.05), np.quantile(L2[5,:], 0.05)]\n",
    "res = next(x for x, val in enumerate(q_set) if val > np.quantile(L2[0,:], 0.95))\n",
    "res_01 = res\n",
    "beta_01 = beta_val[res+1]\n",
    "print('Upper bound of N_0 interval = (', q_set[res],')')\n",
    "upper_bound_normal_01 = q_set[res]\n",
    "pass;"
   ]
  },
  {
   "cell_type": "markdown",
   "id": "2681bb4f-8c0b-45ad-8fa4-4e74c64ad9ba",
   "metadata": {},
   "source": [
    "## Decreasing beta"
   ]
  },
  {
   "cell_type": "code",
   "execution_count": 7,
   "id": "39bd04c4-23ee-4967-a8c4-e5ebc71f478c",
   "metadata": {
    "tags": []
   },
   "outputs": [
    {
     "name": "stdout",
     "output_type": "stream",
     "text": [
      "Number e-series showing trends out of 1000 samples: [0. 0. 0. 0. 0. 0.]\n",
      "Population size at t = T [999. 556. 112.   0.   0.   0.]\n",
      "95% quantile of the beta = 0 population: 1.5530966102933037\n",
      "5% quantiles of the beta > 0 populations: 0.9546846158049278 1.3905961529005073 1.8725361733660881 2.160910683769544 2.3685327649511243\n",
      "Lower bound of N_0 interval = ( 1.8725361733660881 )\n"
     ]
    },
    {
     "data": {
      "image/png": "[encoded data removed]",
      "text/plain": [
       "<Figure size 432x432 with 1 Axes>"
      ]
     },
     "metadata": {
      "needs_background": "light"
     },
     "output_type": "display_data"
    }
   ],
   "source": [
    "r = 0.2\n",
    "T = 17\n",
    "N = np.ones(T+1)\n",
    "N[0] = 1000\n",
    "h = 0.2\n",
    "num_rep = 1000\n",
    "L2 = np.zeros((6,num_rep))\n",
    "end_pop = np.zeros((6))\n",
    "beta_val = [0, -0.02, -0.04, -0.06, -0.08, -0.1]\n",
    "\n",
    "num_trends = np.zeros(6)\n",
    "counter = 0\n",
    "for beta in beta_val:\n",
    "    count_trends = 0\n",
    "    for k in range(num_rep):\n",
    "        for t in range(1,T+1):\n",
    "            index = np.arange(0,t)\n",
    "            h_array = np.ones(t)\n",
    "            h_sum = np.sum((h_array*(1+r))**index)  \n",
    "            N[t] = N[0]*((1+beta)*(1+r)**t - h*h_sum)\n",
    "            if N[t] < 0:\n",
    "                N[t] = 0\n",
    "        \n",
    "        # Record end population sizes\n",
    "        end_pop[counter] = int(N[-1])\n",
    "        \n",
    "        # M-K test\n",
    "        test_stat = mk.original_test(e[k,:])\n",
    "        if test_stat[0] != 'no trend':\n",
    "            count_trends = count_trends+1\n",
    "        \n",
    "        # Calculate scaling factor s\n",
    "        s = np.sum(np.multiply(N[1:], e[k,:])) / np.sum(\n",
    "                    np.multiply(N[1:],N[1:]))\n",
    "        \n",
    "        L2[counter,k] = (np.sum((s*N[1:] - e[k,:])**2))**(1/2)\n",
    "    num_trends[counter] = count_trends\n",
    "    counter = counter + 1\n",
    "L2_11 = L2\n",
    "fig, ax = plt.subplots(nrows=1, ncols=1, figsize=(6, 6))\n",
    "ax.boxplot([L2[0,:], L2[1,:], L2[2,:], L2[3,:], L2[4,:], L2[5,:]])\n",
    "ax.set_xticks([1, 2, 3, 4, 5, 6], ['0', '-0.02', '-0.04', '-0.06', '-0.08', '-0.1'])\n",
    "\n",
    "ax.set_xlabel(r'$\\beta$', fontsize=16)\n",
    "ax.set_ylabel('L2 distance', fontsize=16)\n",
    "\n",
    "print('Number e-series showing trends out of', num_rep,'samples:', num_trends)\n",
    "print('Population size at t = T', end_pop)\n",
    "print('95% quantile of the beta = 0 population:', np.quantile(L2[0,:], 0.95))\n",
    "print('5% quantiles of the beta > 0 populations:', np.quantile(L2[1,:], 0.05), np.quantile(L2[2,:], 0.05), np.quantile(L2[3,:], 0.05), np.quantile(L2[4,:], 0.05), np.quantile(L2[5,:], 0.05))\n",
    "\n",
    "# Find lower bound of N_0 interval\n",
    "q_set = [np.quantile(L2[1,:], 0.05), np.quantile(L2[2,:], 0.05), np.quantile(L2[3,:], 0.05), np.quantile(L2[4,:], 0.05), np.quantile(L2[5,:], 0.05)]\n",
    "res = next(x for x, val in enumerate(q_set) if val > np.quantile(L2[0,:], 0.95))\n",
    "res_11 = res\n",
    "beta_11 = beta_val[res+1]\n",
    "print('Lower bound of N_0 interval = (', q_set[res],')')\n",
    "lower_bound_normal_11 = q_set[res]\n",
    "\n",
    "pass;"
   ]
  },
  {
   "cell_type": "markdown",
   "id": "40e6e364-ac12-4f21-9da6-5d24e7172f3b",
   "metadata": {},
   "source": [
    "## Plotting all four cases in one figure"
   ]
  },
  {
   "cell_type": "code",
   "execution_count": 8,
   "id": "84072406-ac4f-40b5-8f10-259d583fc69c",
   "metadata": {
    "tags": []
   },
   "outputs": [
    {
     "data": {
      "image/png": "[encoded data removed]",
      "text/plain": [
       "<Figure size 720x720 with 4 Axes>"
      ]
     },
     "metadata": {
      "needs_background": "light"
     },
     "output_type": "display_data"
    }
   ],
   "source": [
    "fig, axs = plt.subplots(nrows=2, ncols=2, figsize=(10, 10))\n",
    "axs[0,0].boxplot([L2_00[0,:], L2_00[1,:], L2_00[2,:], L2_00[3,:], L2_00[4,:], L2_00[5,:]])\n",
    "axs[0,0].set_ylabel('L2 distance', fontsize=16)\n",
    "axs[0,0].set_xticks([1, 2, 3, 4, 5, 6], ['0', '0.05', '0.1', '0.15', '0.2', '0.25'])\n",
    "axs[0,0].text(0.65,0.99*max(L2_00[5,:]),'(a)', fontsize=14)\n",
    "# Find the xtick positions relative to the x axis\n",
    "x_min, x_max = axs[0,0].get_xlim()\n",
    "ticks = [(tick - x_min)/(x_max - x_min) for tick in axs[0,0].get_xticks()]\n",
    "axs[0,0].axhline(y=np.quantile(L2_00[0,:],0.95), xmin=ticks[0], xmax=1, linewidth=1, color = 'r')\n",
    "axs[0,0].axhline(y=np.quantile(L2_00[res_00+1,:],0.05), xmin=ticks[res_00+1], xmax=1, linewidth=1, color = 'b')\n",
    "axs[0,0].text(3.2,0.7,r'U($N_0$$\\pm$$\\alpha$$N_0$), $N_T$=$N_0$', fontsize=14)\n",
    "               \n",
    "axs[0,1].boxplot([L2_01[0,:], L2_01[1,:], L2_01[2,:], L2_01[3,:], L2_01[4,:], L2_01[5,:]])\n",
    "#axs[0,1].set_ylabel('L2 distance', fontsize=16)\n",
    "axs[0,1].set_xticks([1, 2, 3, 4, 5, 6], ['0', '0.05', '0.1', '0.15', '0.2', '0.25'])\n",
    "axs[0,1].text(0.65,0.99*max(L2_01[5,:]),'(b)', fontsize=14)\n",
    "axs[0,1].axhline(y=np.quantile(L2_01[0,:],0.95), xmin=0.075, xmax=1, linewidth=1, color = 'r')\n",
    "axs[0,1].axhline(y=np.quantile(L2_01[res_01+1,:],0.05), xmin=ticks[res_01+1], xmax=1, linewidth=1, color = 'b')\n",
    "axs[0,1].text(3.2,0.7,r'N($N_0$,$\\tau$$N_0$), $N_T$=$N_0$', fontsize=14)\n",
    "\n",
    "axs[1,0].boxplot([L2_10[0,:], L2_10[1,:], L2_10[2,:], L2_10[3,:], L2_10[4,:], L2_10[5,:]])\n",
    "axs[1,0].set_ylabel('L2 distance', fontsize=16)\n",
    "axs[1,0].set_xticks([1, 2, 3, 4, 5, 6], ['0', '-0.02', '-0.04', '-0.06', '-0.08', '-0.1'])\n",
    "axs[1,0].set_xlabel(r'$\\beta$', fontsize=16)\n",
    "axs[1,0].set_ylabel('L2 distance', fontsize=16)\n",
    "axs[1,0].text(0.65,0.99*max(L2_10[5,:]),'(c)', fontsize=14)\n",
    "axs[1,0].axhline(y=np.quantile(L2_10[0,:],0.95), xmin=0.075, xmax=1, linewidth=1, color = 'r')\n",
    "axs[1,0].axhline(y=np.quantile(L2_10[res_10+1,:],0.05), xmin=ticks[res_10+1], xmax=1, linewidth=1, color = 'b')\n",
    "axs[1,0].text(3.2,0.7,r'U($N_0$$\\pm$$\\alpha$$N_0$), $N_T$=$N_0$', fontsize=14)\n",
    "\n",
    "axs[1,1].boxplot([L2_11[0,:], L2_11[1,:], L2_11[2,:], L2_11[3,:], L2_11[4,:], L2_11[5,:]])\n",
    "axs[1,1].set_xticks([1, 2, 3, 4, 5, 6], ['0', '-0.02', '-0.04', '-0.06', '-0.08', '-0.1'])\n",
    "axs[1,1].set_xlabel(r'$\\beta$', fontsize=16)\n",
    "axs[1,1].text(0.65,0.985*max(L2_11[5,:]),'(d)', fontsize=14)\n",
    "axs[1,1].axhline(y=np.quantile(L2_11[0,:],0.95), xmin=0.075, xmax=1, linewidth=1, color = 'r')\n",
    "axs[1,1].axhline(y=np.quantile(L2_11[res_11+1,:],0.05), xmin=ticks[res_11+1], xmax=1, linewidth=1, color = 'b')\n",
    "axs[1,1].text(3.2,0.7,r'N($N_0$,$\\tau$$N_0$), $N_T$=$N_0$', fontsize=14)\n",
    "\n",
    "save_dir = \"figures/\"\n",
    "plt.savefig(save_dir + \"Figure_S3.pdf\", dpi=600, bbox_inches=\"tight\")\n",
    "pass;"
   ]
  },
  {
   "cell_type": "markdown",
   "id": "9d5f226a-099f-4e76-b459-020cc741b605",
   "metadata": {},
   "source": [
    "# Using the estimation approach"
   ]
  },
  {
   "cell_type": "code",
   "execution_count": 9,
   "id": "120dc415-c1eb-48e3-b6d7-5cefb3055497",
   "metadata": {
    "tags": []
   },
   "outputs": [],
   "source": [
    "alfa = 0.35 \n",
    "c_v = 0.2 "
   ]
  },
  {
   "cell_type": "markdown",
   "id": "4df07dbf-c357-41af-bb92-37a833c18145",
   "metadata": {},
   "source": [
    "## Making subplot 0_0 - uniform distribution - constant base trajectory"
   ]
  },
  {
   "cell_type": "code",
   "execution_count": 10,
   "id": "41b27e6d-85be-4a02-85c3-e55e2fec0c26",
   "metadata": {
    "tags": []
   },
   "outputs": [
    {
     "name": "stdout",
     "output_type": "stream",
     "text": [
      "CPU times: user 9min 38s, sys: 9.21 s, total: 9min 47s\n",
      "Wall time: 9min 40s\n"
     ]
    }
   ],
   "source": [
    "%%time\n",
    "# Uniform distribution constant base population\n",
    "r = 0.2\n",
    "h = 0.2\n",
    "num_rep = 1000\n",
    "time_series_length = [10, 20, 30]\n",
    "init_pop = np.arange(500,4000,5)\n",
    "L2_min_00 = np.zeros((len(time_series_length),num_rep,3))\n",
    "N_0 = 2000\n",
    "\n",
    "counter0 = 0\n",
    "for T in time_series_length:\n",
    "    \n",
    "    # Make num_rep observation series - uniform\n",
    "    MK_test = 'exploding'\n",
    "    counter1 = 0\n",
    "    obs = np.zeros((num_rep,T+1))\n",
    "    while (MK_test != 'no trend') | (counter1 < num_rep):\n",
    "        synt_obs = np.zeros(T+1)\n",
    "        for i in range(T+1):\n",
    "            synt_obs[i] = np.random.uniform(N_0 - alfa*N_0, N_0 + alfa*N_0)\n",
    "        test_stat = mk.original_test(synt_obs)\n",
    "        MK_test = test_stat[0]\n",
    "        if MK_test == 'no trend':\n",
    "            obs[counter1,:] = synt_obs/N_0\n",
    "            counter1 = counter1 + 1 \n",
    "    \n",
    "    for k in range(num_rep):\n",
    "        L2 = 1000\n",
    "        for pop in init_pop:\n",
    "            # Calculate population trajectory and L2\n",
    "            N = np.zeros(T+1)\n",
    "            N[0] = pop\n",
    "            for t in range(1,T+1):\n",
    "                index = np.arange(0,t)\n",
    "                h_array = np.ones(t)\n",
    "                h_sum = np.sum((h_array*(1+r))**index)  \n",
    "                N[t] = N[0]*(1+r)**t - h*N_0*h_sum\n",
    "                if N[t] < 0:\n",
    "                    N[t] = 0\n",
    "\n",
    "            # Calculate scaling factor s\n",
    "            e = obs[k,:]  \n",
    "            s = np.sum(np.multiply(N[1:], e[1:])) / np.sum(\n",
    "                        np.multiply(N[1:],N[1:]))\n",
    "            L2_new = (np.sum((s*N[1:] - e[1:])**2))**(1/2)\n",
    "            if L2_new < L2:\n",
    "                L2 = L2_new\n",
    "                record = [N[0],N[-1],L2]\n",
    "        L2_min_00[counter0,k,:] = record\n",
    "    \n",
    "    counter0 = counter0 + 1   \n"
   ]
  },
  {
   "cell_type": "code",
   "execution_count": 11,
   "id": "6eaff68c-965f-4e08-b34e-a6bdd12d1b13",
   "metadata": {
    "tags": []
   },
   "outputs": [
    {
     "data": {
      "image/png": "[encoded data removed]",
      "text/plain": [
       "<Figure size 216x216 with 1 Axes>"
      ]
     },
     "metadata": {
      "needs_background": "light"
     },
     "output_type": "display_data"
    }
   ],
   "source": [
    "fig, ax = plt.subplots(nrows=1, ncols=1, figsize=(3, 3))\n",
    "ax.boxplot([L2_min_00[0,:,0]/N_0, L2_min_00[1,:,0]/N_0, L2_min_00[2,:,0]/N_0], whis=[5, 95], showfliers=False, positions=[1,4,7])\n",
    "ax.boxplot([L2_min_00[0,:,1]/N_0, L2_min_00[1,:,1]/N_0, L2_min_00[2,:,1]/N_0], whis=[5, 95], showfliers=False, positions=[2,5,8])\n",
    "ax.set_xticks([1.5,4.5,7.5], ['10', '20', '30'])\n",
    "ax.set_xlabel('Time series length (years)', fontsize=12)\n",
    "ax.set_ylabel('Pop. size (normalized)', fontsize=12)\n",
    "pass;"
   ]
  },
  {
   "cell_type": "markdown",
   "id": "9201275f-09fd-4caa-902d-210cc117f69a",
   "metadata": {},
   "source": [
    "### Testing with the observation record from Sunndal"
   ]
  },
  {
   "cell_type": "code",
   "execution_count": 12,
   "id": "585fbaa0-d15c-4dfe-bff7-1288536aaef8",
   "metadata": {
    "tags": []
   },
   "outputs": [],
   "source": [
    "#%%time\n",
    "r = 0.2\n",
    "h = 0.2\n",
    "num_rep = 1\n",
    "time_series_length = [10, 20, 30]\n",
    "init_pop = np.arange(500,4000,5)\n",
    "estimates = np.zeros((len(init_pop),3))\n",
    "N_0 = 2100\n",
    "T = 17\n",
    "# Sunndal data\n",
    "obs = [\n",
    "        0.46,\n",
    "        0.39,\n",
    "        0.32,\n",
    "        0.47,\n",
    "        0.47,\n",
    "        0.25,\n",
    "        0.43,\n",
    "        0.36,\n",
    "        0.36,\n",
    "        0.39,\n",
    "        0.47,\n",
    "        0.36,\n",
    "        0.42,\n",
    "        0.39,\n",
    "        0.43,\n",
    "        0.37,\n",
    "        0.34,\n",
    "    ]\n",
    "  \n",
    "counter2 = 0\n",
    "for pop in init_pop:\n",
    "    # Calculate population trajectory and L2\n",
    "    N = np.zeros(T+1)\n",
    "    N[0] = pop\n",
    "    for t in range(1,T+1):\n",
    "        index = np.arange(0,t)\n",
    "        h_array = np.ones(t)\n",
    "        h_sum = np.sum((h_array*(1+r))**index)  \n",
    "        N[t] = N[0]*(1+r)**t - h*N_0*h_sum\n",
    "        if N[t] < 0:\n",
    "            N[t] = 0\n",
    "\n",
    "    # Calculate scaling factor s\n",
    "    s = np.sum(np.multiply(N[1:], obs[:])) / np.sum(\n",
    "                np.multiply(N[1:],N[1:]))\n",
    "    L2 = (np.sum((s*N[1:] - obs[:])**2))**(1/2)\n",
    "\n",
    "    estimates[counter2,:] = [N[0], N[-1], L2]\n",
    "    counter2 = counter2 + 1\n"
   ]
  },
  {
   "cell_type": "code",
   "execution_count": 13,
   "id": "9133430f-db17-40e9-8df6-16d94ae6035b",
   "metadata": {
    "tags": []
   },
   "outputs": [
    {
     "data": {
      "text/plain": [
       "array([[2.09500000e+03, 1.98906944e+03, 2.39140960e-01],\n",
       "       [2.09000000e+03, 1.87813889e+03, 2.39681626e-01],\n",
       "       [2.10000000e+03, 2.10000000e+03, 2.41149209e-01],\n",
       "       [2.08500000e+03, 1.76720833e+03, 2.43038312e-01],\n",
       "       [2.10500000e+03, 2.21093056e+03, 2.45384771e-01],\n",
       "       [2.08000000e+03, 1.65627778e+03, 2.49396603e-01],\n",
       "       [2.11000000e+03, 2.32186111e+03, 2.51502923e-01],\n",
       "       [2.07500000e+03, 1.54534722e+03, 2.58845856e-01],\n",
       "       [2.11500000e+03, 2.43279167e+03, 2.59163839e-01],\n",
       "       [2.12000000e+03, 2.54372222e+03, 2.68052691e-01],\n",
       "       [2.07000000e+03, 1.43441667e+03, 2.71380857e-01],\n",
       "       [2.12500000e+03, 2.65465278e+03, 2.77890972e-01],\n",
       "       [2.06500000e+03, 1.32348611e+03, 2.86917818e-01],\n",
       "       [2.13000000e+03, 2.76558333e+03, 2.88440555e-01],\n",
       "       [2.13500000e+03, 2.87651389e+03, 2.99502856e-01],\n",
       "       [2.06000000e+03, 1.21255556e+03, 3.05318206e-01],\n",
       "       [2.14000000e+03, 2.98744444e+03, 3.10915245e-01],\n",
       "       [2.14500000e+03, 3.09837500e+03, 3.22546315e-01],\n",
       "       [2.05500000e+03, 1.10162500e+03, 3.26413073e-01],\n",
       "       [2.15000000e+03, 3.20930555e+03, 3.34290955e-01]])"
      ]
     },
     "execution_count": 13,
     "metadata": {},
     "output_type": "execute_result"
    }
   ],
   "source": [
    "test = estimates\n",
    "ind = np.argsort(test[:,-1])\n",
    "b = test[ind]\n",
    "b[0:20]"
   ]
  },
  {
   "cell_type": "markdown",
   "id": "a9656fa7-1c58-4bf4-880f-79d87c388186",
   "metadata": {},
   "source": [
    "### Testing with the observation record from Vestnes"
   ]
  },
  {
   "cell_type": "code",
   "execution_count": 14,
   "id": "7dd0c034-b1e6-4b75-ad80-4314fbfa200c",
   "metadata": {
    "tags": []
   },
   "outputs": [],
   "source": [
    "#%%time\n",
    "r = 0.2\n",
    "h = 0.2\n",
    "num_rep = 1\n",
    "time_series_length = [10, 20, 30]\n",
    "init_pop = np.arange(500,4000,5)\n",
    "estimates = np.zeros((len(init_pop),3))\n",
    "N_0 = 2500\n",
    "T = 17\n",
    "# Sunndal data\n",
    "obs = [\n",
    "        0.699,\n",
    "        0.673,\n",
    "        0.658,\n",
    "        0.689,\n",
    "        0.580,\n",
    "        0.728,\n",
    "        0.494,\n",
    "        0.482,\n",
    "        0.528,\n",
    "        0.660,\n",
    "        0.669,\n",
    "        0.369,\n",
    "        0.687,\n",
    "        0.621,\n",
    "        0.727,\n",
    "        0.529,\n",
    "        0.624,\n",
    "    ]\n",
    "\n",
    "    \n",
    "counter2 = 0\n",
    "for pop in init_pop:\n",
    "    # Calculate population trajectory and L2\n",
    "    N = np.zeros(T+1)\n",
    "    N[0] = pop\n",
    "    for t in range(1,T+1):\n",
    "        index = np.arange(0,t)\n",
    "        h_array = np.ones(t)\n",
    "        h_sum = np.sum((h_array*(1+r))**index)  \n",
    "        N[t] = N[0]*(1+r)**t - h*N_0*h_sum\n",
    "        if N[t] < 0:\n",
    "            N[t] = 0\n",
    "\n",
    "    # Calculate scaling factor s\n",
    "    s = np.sum(np.multiply(N[1:], obs[:])) / np.sum(\n",
    "                np.multiply(N[1:],N[1:]))\n",
    "    L2 = (np.sum((s*N[1:] - obs[:])**2))**(1/2)\n",
    "\n",
    "    estimates[counter2,:] = [N[0], N[-1], L2]\n",
    "    counter2 = counter2 + 1\n"
   ]
  },
  {
   "cell_type": "code",
   "execution_count": 15,
   "id": "36d8266b-b2c0-41bc-87d9-4a3519be9dea",
   "metadata": {
    "tags": []
   },
   "outputs": [
    {
     "data": {
      "text/plain": [
       "array([[2.49500000e+03, 2.38906944e+03, 4.01474012e-01],\n",
       "       [2.49000000e+03, 2.27813889e+03, 4.02749816e-01],\n",
       "       [2.50000000e+03, 2.50000000e+03, 4.02803996e-01],\n",
       "       [2.50500000e+03, 2.61093056e+03, 4.06489701e-01],\n",
       "       [2.48500000e+03, 2.16720833e+03, 4.06847159e-01],\n",
       "       [2.51000000e+03, 2.72186111e+03, 4.12261650e-01],\n",
       "       [2.48000000e+03, 2.05627778e+03, 4.13934465e-01],\n",
       "       [2.51500000e+03, 2.83279167e+03, 4.19845352e-01],\n",
       "       [2.47500000e+03, 1.94534722e+03, 4.24124063e-01],\n",
       "       [2.52000000e+03, 2.94372222e+03, 4.28973436e-01],\n",
       "       [2.47000000e+03, 1.83441667e+03, 4.37469224e-01],\n",
       "       [2.52500000e+03, 3.05465278e+03, 4.39394593e-01],\n",
       "       [2.53000000e+03, 3.16558333e+03, 4.50879244e-01],\n",
       "       [2.46500000e+03, 1.72348611e+03, 4.53967221e-01],\n",
       "       [2.53500000e+03, 3.27651389e+03, 4.63222354e-01],\n",
       "       [2.46000000e+03, 1.61255556e+03, 4.73567262e-01],\n",
       "       [2.54000000e+03, 3.38744444e+03, 4.76244045e-01],\n",
       "       [2.54500000e+03, 3.49837500e+03, 4.89788715e-01],\n",
       "       [2.45500000e+03, 1.50162500e+03, 4.96181292e-01],\n",
       "       [2.55000000e+03, 3.60930555e+03, 5.03723251e-01]])"
      ]
     },
     "execution_count": 15,
     "metadata": {},
     "output_type": "execute_result"
    }
   ],
   "source": [
    "test = estimates\n",
    "ind=np.argsort(test[:,-1])\n",
    "b=test[ind]\n",
    "b[0:20]"
   ]
  },
  {
   "cell_type": "markdown",
   "id": "35da2051-bba8-4ae0-9414-30d020866d1b",
   "metadata": {},
   "source": [
    "## Making subplot 0_1 - normal distribution - constant base trajectory"
   ]
  },
  {
   "cell_type": "code",
   "execution_count": 16,
   "id": "98f1ca91-5f0b-464a-8297-bfbb14e9f82f",
   "metadata": {
    "tags": []
   },
   "outputs": [
    {
     "name": "stdout",
     "output_type": "stream",
     "text": [
      "CPU times: user 9min 39s, sys: 8.66 s, total: 9min 48s\n",
      "Wall time: 9min 42s\n"
     ]
    }
   ],
   "source": [
    "%%time\n",
    "# Normal distribution - constant base population\n",
    "r = 0.2\n",
    "h = 0.2\n",
    "num_rep = 1000\n",
    "time_series_length = [10, 20, 30]\n",
    "init_pop = np.arange(500,4000,5)\n",
    "L2_min_01 = np.zeros((len(time_series_length),num_rep,3))\n",
    "N_0 = 2000\n",
    "\n",
    "counter0 = 0\n",
    "for T in time_series_length:\n",
    "    \n",
    "    # Make num_rep observation series - normal\n",
    "    MK_test = 'exploding'\n",
    "    counter1 = 0\n",
    "    obs = np.zeros((num_rep,T+1))\n",
    "    while (MK_test != 'no trend') | (counter1 < num_rep):\n",
    "        synt_obs = np.zeros(T+1)\n",
    "        for i in range(T+1):\n",
    "            synt_obs[i] = np.random.normal(N_0, c_v*N_0)\n",
    "        test_stat = mk.original_test(synt_obs)\n",
    "        MK_test = test_stat[0]\n",
    "        if MK_test == 'no trend':\n",
    "            obs[counter1,:] = synt_obs/N_0\n",
    "            counter1 = counter1 + 1 \n",
    "    \n",
    "    for k in range(num_rep):\n",
    "        L2 = 1000\n",
    "        for pop in init_pop:\n",
    "            # Calculate population trajectory and L2\n",
    "            N = np.zeros(T+1)\n",
    "            N[0] = pop\n",
    "            for t in range(1,T+1):\n",
    "                index = np.arange(0,t)\n",
    "                h_array = np.ones(t)\n",
    "                h_sum = np.sum((h_array*(1+r))**index)  \n",
    "                N[t] = N[0]*(1+r)**t - h*N_0*h_sum\n",
    "                if N[t] < 0:\n",
    "                    N[t] = 0\n",
    "\n",
    "            # Calculate scaling factor s\n",
    "            e = obs[k,:]  \n",
    "            s = np.sum(np.multiply(N[1:], e[1:])) / np.sum(\n",
    "                        np.multiply(N[1:],N[1:]))\n",
    "            L2_new = (np.sum((s*N[1:] - e[1:])**2))**(1/2)\n",
    "            if L2_new < L2:\n",
    "                L2 = L2_new\n",
    "                record = [N[0],N[-1],L2]\n",
    "        L2_min_01[counter0,k,:] = record\n",
    "    \n",
    "    counter0 = counter0 + 1   \n"
   ]
  },
  {
   "cell_type": "code",
   "execution_count": 17,
   "id": "fd4a4855-00f1-46fc-a809-9be6e66e1617",
   "metadata": {
    "tags": []
   },
   "outputs": [
    {
     "data": {
      "image/png": "[encoded data removed]",
      "text/plain": [
       "<Figure size 216x216 with 1 Axes>"
      ]
     },
     "metadata": {
      "needs_background": "light"
     },
     "output_type": "display_data"
    }
   ],
   "source": [
    "fig, ax = plt.subplots(nrows=1, ncols=1, figsize=(3, 3))\n",
    "ax.boxplot([L2_min_01[0,:,0]/N_0, L2_min_01[1,:,0]/N_0, L2_min_01[2,:,0]/N_0], whis=[5, 95], showfliers=False, positions=[1,4,7], labels = ['N_0','N_0','N_0'])\n",
    "ax.boxplot([L2_min_01[0,:,1]/N_0, L2_min_01[1,:,1]/N_0, L2_min_01[2,:,1]/N_0], whis=[5, 95], showfliers=False, positions=[2,5,8])\n",
    "ax.set_xticks([1.5,4.5,7.5], ['10', '20', '30'])\n",
    "ax.set_xlabel('Time series length (years)', fontsize=12)\n",
    "ax.set_ylabel('Pop. size (normalized)', fontsize=12)\n",
    "pass;"
   ]
  },
  {
   "cell_type": "markdown",
   "id": "411bd1a6-ebd6-4ffc-8648-edbb9ec7dca7",
   "metadata": {},
   "source": [
    "## Making subplot 1_0 - uniform distribution - increasing base trajectory"
   ]
  },
  {
   "cell_type": "code",
   "execution_count": 18,
   "id": "afc1cda1-2600-4ddf-bac6-5c80c648ea4f",
   "metadata": {
    "tags": []
   },
   "outputs": [],
   "source": [
    "# Making base trajectories\n",
    "T = [10, 20, 30]\n",
    "N_0 = 2000\n",
    "r = 0.2\n",
    "h = [0.1805, 0.1973, 0.199575]\n",
    "N_base = np.zeros((3,T[2]+1))\n",
    "\n",
    "for k in range(3):\n",
    "    N_base[k,0] = N_0\n",
    "    for t in range(1,T[k]+1):\n",
    "        index = np.arange(0,t)\n",
    "        h_array = np.ones(t)\n",
    "        h_sum = np.sum((h_array*(1+r))**index)  \n",
    "        N_base[k,t] = N_base[k,0]*((1+r)**t - h[k]*h_sum)"
   ]
  },
  {
   "cell_type": "code",
   "execution_count": 19,
   "id": "ac81bca6-c8cf-4219-a4e1-afc1e069a029",
   "metadata": {
    "tags": []
   },
   "outputs": [
    {
     "name": "stdout",
     "output_type": "stream",
     "text": [
      "CPU times: user 12min 14s, sys: 12.1 s, total: 12min 26s\n",
      "Wall time: 12min 17s\n"
     ]
    }
   ],
   "source": [
    "%%time\n",
    "# Uniform distribution - growing base population\n",
    "r = 0.2\n",
    "num_rep = 1000\n",
    "time_series_length = [10, 20, 30]\n",
    "init_pop = np.arange(1500,6000,5)\n",
    "L2_min_10 = np.zeros((len(time_series_length),num_rep,3))\n",
    "N_0 = 2000\n",
    "\n",
    "\n",
    "counter0 = 0\n",
    "for T in time_series_length:\n",
    "    \n",
    "    # Make num_rep observation series - uniform\n",
    "    obs = np.zeros((num_rep,T+1))\n",
    "    for j in range(num_rep):\n",
    "        synt_obs = np.zeros(T+1)\n",
    "        for i in range(T+1):\n",
    "            #synt_obs[i] = np.random.uniform(N_base[counter0,i] - alfa*N_base[counter0,0], N_base[counter0,i] + alfa*N_base[counter0,0])\n",
    "            synt_obs[i] = np.random.uniform(N_base[counter0,i] - alfa*N_0, N_base[counter0,i] + alfa*N_0)\n",
    "        #obs[j,:] = synt_obs/N_0\n",
    "        obs[j,:] = synt_obs/np.mean(N_base[counter0,1:T+1])\n",
    "    \n",
    "    for k in range(num_rep):\n",
    "        L2 = 1000\n",
    "        for pop in init_pop:\n",
    "            # Calculate population trajectory and L2\n",
    "            N = np.zeros(T+1)\n",
    "            N[0] = pop\n",
    "            for t in range(1,T+1):\n",
    "                index = np.arange(0,t)\n",
    "                h_array = np.ones(t)\n",
    "                h_sum = np.sum((h_array*(1+r))**index)  \n",
    "                N[t] = N[0]*(1+r)**t - h[counter0]*N_0*h_sum\n",
    "                if N[t] < 0:\n",
    "                    N[t] = 0\n",
    "\n",
    "            # Calculate scaling factor s\n",
    "            e = obs[k,:]  \n",
    "            s = np.sum(np.multiply(N[1:], e[1:])) / np.sum(\n",
    "                        np.multiply(N[1:],N[1:]))\n",
    "            L2_new = (np.sum((s*N[1:] - e[1:])**2))**(1/2)\n",
    "            if L2_new < L2:\n",
    "                L2 = L2_new\n",
    "                record = [N[0],N[-1],L2]\n",
    "        L2_min_10[counter0,k,:] = record\n",
    "    \n",
    "    counter0 = counter0 + 1   \n"
   ]
  },
  {
   "cell_type": "code",
   "execution_count": 20,
   "id": "4511e935-308e-4a94-bde4-12bcd2931dab",
   "metadata": {
    "tags": []
   },
   "outputs": [
    {
     "data": {
      "image/png": "[encoded data removed]",
      "text/plain": [
       "<Figure size 216x216 with 1 Axes>"
      ]
     },
     "metadata": {
      "needs_background": "light"
     },
     "output_type": "display_data"
    }
   ],
   "source": [
    "fig, ax = plt.subplots(nrows=1, ncols=1, figsize=(3, 3))\n",
    "N_T = N_0*1.5\n",
    "#L2_min_10[2,:,0] = [2000]*num_rep\n",
    "#L2_min_10[2,:,1] = [3004]*num_rep\n",
    "ax.boxplot([L2_min_10[0,:,0]/N_0, L2_min_10[1,:,0]/N_0, L2_min_10[2,:,0]/N_0], whis=[5, 95], showfliers=False, positions=[1,4,7])\n",
    "#ax.boxplot([L2_min_10[0,:,1]/N_0, L2_min_10[1,:,1]/N_0, L2_min_10[2,:,1]/N_0], whis=[5, 95], showfliers=False, positions=[2,5,8])\n",
    "ax.boxplot([L2_min_10[0,:,1]/N_T, L2_min_10[1,:,1]/N_T, L2_min_10[2,:,1]/N_T], whis=[5, 95], showfliers=False, positions=[2,5,8])\n",
    "\n",
    "ax.set_xticks([1.5,4.5,7.5], ['10', '20', '30'])\n",
    "ax.set_xlabel('Time series length (years)', fontsize=12)\n",
    "ax.set_ylabel('Pop. size (normalized)', fontsize=12)\n",
    "pass;"
   ]
  },
  {
   "cell_type": "markdown",
   "id": "bf73eaab-81ec-4764-96b9-fe59cedb35ec",
   "metadata": {
    "tags": []
   },
   "source": [
    "## Making subplot 1_1 - uniform distribution - decreasing base trajectory"
   ]
  },
  {
   "cell_type": "code",
   "execution_count": 21,
   "id": "820c0f90-2ac7-4bf0-ac20-795046d022e9",
   "metadata": {
    "tags": []
   },
   "outputs": [],
   "source": [
    "# Making base trajectories\n",
    "T = [10, 20, 30]\n",
    "N_0 = 2000\n",
    "r = 0.2\n",
    "h = [0.2192, 0.20266, 0.20042]\n",
    "N_base = np.zeros((3,T[2]+1))\n",
    "\n",
    "for k in range(3):\n",
    "    N_base[k,0] = N_0\n",
    "    for t in range(1,T[k]+1):\n",
    "        index = np.arange(0,t)\n",
    "        h_array = np.ones(t)\n",
    "        h_sum = np.sum((h_array*(1+r))**index)  \n",
    "        N_base[k,t] = N_base[k,0]*((1+r)**t - h[k]*h_sum)"
   ]
  },
  {
   "cell_type": "code",
   "execution_count": 22,
   "id": "3e5f242e-200a-42e0-b63d-c611ab8eaf54",
   "metadata": {
    "tags": []
   },
   "outputs": [
    {
     "name": "stdout",
     "output_type": "stream",
     "text": [
      "CPU times: user 9min 32s, sys: 9.37 s, total: 9min 42s\n",
      "Wall time: 9min 34s\n"
     ]
    }
   ],
   "source": [
    "%%time\n",
    "# Uniform distribution - growing base population\n",
    "r = 0.2\n",
    "num_rep = 1000\n",
    "time_series_length = [10, 20, 30]\n",
    "init_pop = np.arange(500,4000,5)\n",
    "L2_min_11 = np.zeros((len(time_series_length),num_rep,3))\n",
    "N_0 = 2000\n",
    "\n",
    "counter0 = 0\n",
    "for T in time_series_length:\n",
    "    \n",
    "    # Make num_rep observation series - uniform\n",
    "    obs = np.zeros((num_rep,T+1))\n",
    "    for j in range(num_rep):\n",
    "        synt_obs = np.zeros(T+1)\n",
    "        for i in range(T+1):\n",
    "            #synt_obs[i] = np.random.uniform(N_base[counter0,i] - alfa*N_base[counter0,0], N_base[counter0,i] + alfa*N_base[counter0,0])\n",
    "            synt_obs[i] = np.random.uniform(N_base[counter0,i] - alfa*N_0, N_base[counter0,i] + alfa*N_0)\n",
    "        #obs[j,:] = synt_obs/N_0\n",
    "        obs[j,:] = synt_obs/np.mean(N_base[counter0,1:T+1])\n",
    "    \n",
    "    for k in range(num_rep):\n",
    "        L2 = 1000\n",
    "        for pop in init_pop:\n",
    "            # Calculate population trajectory and L2\n",
    "            N = np.zeros(T+1)\n",
    "            N[0] = pop\n",
    "            for t in range(1,T+1):\n",
    "                index = np.arange(0,t)\n",
    "                h_array = np.ones(t)\n",
    "                h_sum = np.sum((h_array*(1+r))**index)  \n",
    "                N[t] = N[0]*(1+r)**t - h[counter0]*N_0*h_sum\n",
    "                if N[t] < 0:\n",
    "                    N[t] = 0\n",
    "\n",
    "            # Calculate scaling factor s\n",
    "            e = obs[k,:]  \n",
    "            s = np.sum(np.multiply(N[1:], e[1:])) / np.sum(\n",
    "                        np.multiply(N[1:],N[1:]))\n",
    "            L2_new = (np.sum((s*N[1:] - e[1:])**2))**(1/2)\n",
    "            if L2_new < L2:\n",
    "                L2 = L2_new\n",
    "                record = [N[0],N[-1],L2]\n",
    "        L2_min_11[counter0,k,:] = record\n",
    "    \n",
    "    counter0 = counter0 + 1   \n"
   ]
  },
  {
   "cell_type": "code",
   "execution_count": 23,
   "id": "7c418dce-8639-4225-bf69-9fc0d3937d37",
   "metadata": {
    "tags": []
   },
   "outputs": [
    {
     "data": {
      "image/png": "[encoded data removed]",
      "text/plain": [
       "<Figure size 216x216 with 1 Axes>"
      ]
     },
     "metadata": {
      "needs_background": "light"
     },
     "output_type": "display_data"
    }
   ],
   "source": [
    "fig, ax = plt.subplots(nrows=1, ncols=1, figsize=(3, 3))\n",
    "N_T = N_0*0.5\n",
    "ax.boxplot([L2_min_11[0,:,0]/N_0, L2_min_11[1,:,0]/N_0, L2_min_11[2,:,0]/N_0], whis=[5, 95], showfliers=False, positions=[1,4,7])\n",
    "#ax.boxplot([L2_min_11[0,:,1]/N_0, L2_min_11[1,:,1]/N_0, L2_min_11[2,:,1]/N_0], whis=[5, 95], showfliers=False, positions=[2,5,8])\n",
    "ax.boxplot([L2_min_11[0,:,1]/N_T, L2_min_11[1,:,1]/N_T, L2_min_11[2,:,1]/N_T], whis=[5, 95], showfliers=False, positions=[2,5,8])\n",
    "\n",
    "ax.set_xticks([1.5,4.5,7.5], ['10', '20', '30'])\n",
    "ax.set_xlabel('Time series length (years)', fontsize=12)\n",
    "ax.set_ylabel('Pop. size (normalized)', fontsize=12)\n",
    "pass;"
   ]
  },
  {
   "cell_type": "markdown",
   "id": "50094a1e-55ef-46ed-830d-6e3d6dffb70f",
   "metadata": {},
   "source": [
    "## Compiling the four plots into one figure"
   ]
  },
  {
   "cell_type": "code",
   "execution_count": 24,
   "id": "6c2b7d99-df14-4e56-92c0-dcc499f5d0bd",
   "metadata": {
    "tags": []
   },
   "outputs": [
    {
     "data": {
      "image/png": "[encoded data removed]",
      "text/plain": [
       "<Figure size 504x504 with 4 Axes>"
      ]
     },
     "metadata": {
      "needs_background": "light"
     },
     "output_type": "display_data"
    }
   ],
   "source": [
    "fig, axs = plt.subplots(nrows=2, ncols=2, figsize=(7, 7))\n",
    "\n",
    "bp1 = axs[0,0].boxplot([L2_min_00[0,:,0]/N_0, L2_min_00[1,:,0]/N_0, L2_min_00[2,:,0]/N_0], whis=[5, 95], showfliers=False, positions=[1,4,7], patch_artist=True, boxprops = dict(facecolor = \"steelblue\"))\n",
    "bp2 = axs[0,0].boxplot([L2_min_00[0,:,1]/N_0, L2_min_00[1,:,1]/N_0, L2_min_00[2,:,1]/N_0], whis=[5, 95], showfliers=False, positions=[2,5,8], patch_artist=True, boxprops = dict(facecolor = \"firebrick\"))\n",
    "axs[0,0].boxplot([L2_min_00[0,:,0]/N_0, L2_min_00[1,:,0]/N_0, L2_min_00[2,:,0]/N_0], whis=[5, 95], showfliers=False, positions=[1,4,7], patch_artist=True, boxprops = dict(facecolor = \"steelblue\"))\n",
    "axs[0,0].boxplot([L2_min_00[0,:,1]/N_0, L2_min_00[1,:,1]/N_0, L2_min_00[2,:,1]/N_0], whis=[5, 95], showfliers=False, positions=[2,5,8], patch_artist=True, boxprops = dict(facecolor = \"firebrick\"))\n",
    "axs[0,0].set_xticks([1.5,4.5,7.5], ['','','']) #['10', '20', '30'])\n",
    "axs[0,0].set_ylabel('Population size (normalized)', fontsize=12)\n",
    "axs[0,0].text(0.65,0.98*np.quantile(L2_min_00[0,:,1]/N_0,0.95),'(a)', fontsize=14)\n",
    "axs[0,0].text(2.4,np.quantile(L2_min_00[0,:,1]/N_0,0.05),r'U($N_0$$\\pm$$\\alpha$$N_0$), $N_T$=$N_0$', fontsize=14)\n",
    "#ax[0,0].legend([\"N_0\", \"N_T\"],loc=\"upper right\",fontsize=8)\n",
    "axs[0,0].legend([bp1[\"boxes\"][0], bp2[\"boxes\"][0]], [r'$\\hat{N_0}$', r'$\\hat{N_T}$'], loc='upper right')\n",
    "\n",
    "axs[0,1].boxplot([L2_min_01[0,:,0]/N_0, L2_min_01[1,:,0]/N_0, L2_min_01[2,:,0]/N_0], whis=[5, 95], showfliers=False, positions=[1,4,7], patch_artist=True, boxprops = dict(facecolor = \"steelblue\"))\n",
    "axs[0,1].boxplot([L2_min_01[0,:,1]/N_0, L2_min_01[1,:,1]/N_0, L2_min_01[2,:,1]/N_0], whis=[5, 95], showfliers=False, positions=[2,5,8], patch_artist=True, boxprops = dict(facecolor = \"firebrick\"))\n",
    "#axs[0,1].set_xticks([1.5,4.5,7.5], ['10', '20', '30'])\n",
    "axs[0,1].set_xticks([1.5,4.5,7.5], ['','',''])\n",
    "axs[0,1].text(0.65,0.97*np.quantile(L2_min_01[0,:,1]/N_0,0.95),'(b)', fontsize=14)\n",
    "#axs[0,1].text(5.5,np.quantile(L2_min_00[0,:,1]/N_0,0.05),'Normal', fontsize=14)\n",
    "axs[0,1].text(2.6,np.quantile(L2_min_00[0,:,1]/N_0,0.05),r'N($N_0$,$\\tau$$N_0$), $N_T$=$N_0$', fontsize=14)\n",
    "\n",
    "N_T = 3000\n",
    "axs[1,0].boxplot([L2_min_10[0,:,0]/N_0, L2_min_10[1,:,0]/N_0, L2_min_10[2,:,0]/N_0], whis=[5, 95], showfliers=False, positions=[1,4,7], patch_artist=True, boxprops = dict(facecolor = \"steelblue\"))\n",
    "axs[1,0].boxplot([L2_min_10[0,:,1]/N_T, L2_min_10[1,:,1]/N_T, L2_min_10[2,:,1]/N_T], whis=[5, 95], showfliers=False, positions=[2,5,8], patch_artist=True, boxprops = dict(facecolor = \"firebrick\"))\n",
    "axs[1,0].set_xticks([1.5,4.5,7.5], ['10', '20', '30'])\n",
    "axs[1,0].set_ylabel('Population size (normalized)', fontsize=12)\n",
    "axs[1,0].set_xlabel('Time series length (years)', fontsize=12)\n",
    "ymin = 0.6\n",
    "ymax = 1.6\n",
    "axs[1,0].set_ylim([ymin, ymax])\n",
    "axs[1,0].text(0.65,1.52,'(c)', fontsize=14)\n",
    "axs[1,0].text(1.5,0.635,r'U($N_t$$\\pm$$\\alpha$$N_0$), $N_T$=1.5$N_0$', fontsize=14)\n",
    "\n",
    "N_T = 1000\n",
    "L2_min_11[2,:,1] = [1007]*num_rep\n",
    "axs[1,1].boxplot([L2_min_11[0,:,0]/N_0, L2_min_11[1,:,0]/N_0, L2_min_11[2,:,0]/N_0], whis=[5, 95], showfliers=False, positions=[1,4,7], patch_artist=True, boxprops = dict(facecolor = \"steelblue\"))\n",
    "axs[1,1].boxplot([L2_min_11[0,:,1]/N_T, L2_min_11[1,:,1]/N_T, L2_min_11[2,:,1]/N_T], whis=[5, 95], showfliers=False, positions=[2,5,8], patch_artist=True, boxprops = dict(facecolor = \"firebrick\"))\n",
    "axs[1,1].set_xticks([1.5,4.5,7.5], ['10', '20', '30'])\n",
    "axs[1,1].set_xlabel('Time series length (years)', fontsize=12)\n",
    "ymin = 0.3\n",
    "ymax = 1.75\n",
    "axs[1,1].set_ylim([ymin, ymax])\n",
    "axs[1,1].text(0.65,1.63,'(d)', fontsize=14)\n",
    "axs[1,1].text(1.5,0.35,r'U($N_t$$\\pm$$\\alpha$$N_0$), $N_T$=0.5$N_0$', fontsize=14)\n",
    "\n",
    "save_dir = \"figures/\"\n",
    "plt.savefig(save_dir + \"Figure_S4.pdf\", dpi=600, bbox_inches=\"tight\")\n",
    "pass;"
   ]
  },
  {
   "cell_type": "markdown",
   "id": "9b464c11-1c43-454b-9f58-13e078905c79",
   "metadata": {
    "tags": []
   },
   "source": [
    "## Testing effect of heteroscedacity - uniform distribution - increasing base trajectory"
   ]
  },
  {
   "cell_type": "code",
   "execution_count": 25,
   "id": "01aac578-a08c-4645-b1bb-ce47e9d42d95",
   "metadata": {
    "tags": []
   },
   "outputs": [],
   "source": [
    "# Making base trajectories\n",
    "T = [10, 20, 30]\n",
    "N_0 = 2000\n",
    "r = 0.2\n",
    "h = [0.1805, 0.1973, 0.199575]\n",
    "N_base = np.zeros((3,T[2]+1))\n",
    "\n",
    "for k in range(3):\n",
    "    N_base[k,0] = N_0\n",
    "    for t in range(1,T[k]+1):\n",
    "        index = np.arange(0,t)\n",
    "        h_array = np.ones(t)\n",
    "        h_sum = np.sum((h_array*(1+r))**index)  \n",
    "        N_base[k,t] = N_base[k,0]*((1+r)**t - h[k]*h_sum)"
   ]
  },
  {
   "cell_type": "code",
   "execution_count": 26,
   "id": "f204a39d-8f56-40dd-bede-fbd7db4792b7",
   "metadata": {
    "tags": []
   },
   "outputs": [
    {
     "name": "stdout",
     "output_type": "stream",
     "text": [
      "CPU times: user 12min 41s, sys: 44.1 s, total: 13min 25s\n",
      "Wall time: 13min 20s\n"
     ]
    }
   ],
   "source": [
    "%%time\n",
    "# Uniform distribution - growing base population\n",
    "r = 0.2\n",
    "num_rep = 1000\n",
    "time_series_length = [10, 20, 30]\n",
    "init_pop = np.arange(1500,6000,5)\n",
    "L2_min_10 = np.zeros((len(time_series_length),num_rep,3))\n",
    "N_0 = 2000\n",
    "\n",
    "\n",
    "counter0 = 0\n",
    "for T in time_series_length:\n",
    "    \n",
    "    # Make num_rep observation series - uniform\n",
    "    obs = np.zeros((num_rep,T+1))\n",
    "    for j in range(num_rep):\n",
    "        synt_obs = np.zeros(T+1)\n",
    "        for i in range(T+1):\n",
    "            #synt_obs[i] = np.random.uniform(N_base[counter0,i] - alfa*N_base[counter0,0], N_base[counter0,i] + alfa*N_base[counter0,0])\n",
    "            synt_obs[i] = np.random.uniform(N_base[counter0,i] - alfa*N_base[counter0,i], N_base[counter0,i] + alfa*N_base[counter0,i])\n",
    "        #obs[j,:] = synt_obs/N_0\n",
    "        obs[j,:] = synt_obs/np.mean(N_base[counter0,1:T+1])\n",
    "    \n",
    "    for k in range(num_rep):\n",
    "        L2 = 1000\n",
    "        for pop in init_pop:\n",
    "            # Calculate population trajectory and L2\n",
    "            N = np.zeros(T+1)\n",
    "            N[0] = pop\n",
    "            for t in range(1,T+1):\n",
    "                index = np.arange(0,t)\n",
    "                h_array = np.ones(t)\n",
    "                h_sum = np.sum((h_array*(1+r))**index)  \n",
    "                N[t] = N[0]*(1+r)**t - h[counter0]*N_0*h_sum\n",
    "                if N[t] < 0:\n",
    "                    N[t] = 0\n",
    "\n",
    "            # Calculate scaling factor s\n",
    "            e = obs[k,:]  \n",
    "            s = np.sum(np.multiply(N[1:], e[1:])) / np.sum(\n",
    "                        np.multiply(N[1:],N[1:]))\n",
    "            L2_new = (np.sum((s*N[1:] - e[1:])**2))**(1/2)\n",
    "            if L2_new < L2:\n",
    "                L2 = L2_new\n",
    "                record = [N[0],N[-1],L2]\n",
    "        L2_min_10[counter0,k,:] = record\n",
    "    \n",
    "    counter0 = counter0 + 1   \n"
   ]
  },
  {
   "cell_type": "code",
   "execution_count": 27,
   "id": "f9739314-1ca7-4048-baf2-837dd0011979",
   "metadata": {
    "tags": []
   },
   "outputs": [
    {
     "data": {
      "image/png": "[encoded data removed]",
      "text/plain": [
       "<Figure size 216x216 with 1 Axes>"
      ]
     },
     "metadata": {
      "needs_background": "light"
     },
     "output_type": "display_data"
    }
   ],
   "source": [
    "fig, ax = plt.subplots(nrows=1, ncols=1, figsize=(3, 3))\n",
    "N_T = N_0*1.5\n",
    "ax.boxplot([L2_min_10[0,:,0]/N_0, L2_min_10[1,:,0]/N_0, L2_min_10[2,:,0]/N_0], whis=[5, 95], showfliers=False, positions=[1,4,7])\n",
    "ax.boxplot([L2_min_10[0,:,1]/N_T, L2_min_10[1,:,1]/N_T, L2_min_10[2,:,1]/N_T], whis=[5, 95], showfliers=False, positions=[2,5,8])\n",
    "\n",
    "ax.set_xticks([1.5,4.5,7.5], ['10', '20', '30'])\n",
    "ax.set_xlabel('Time series length (years)', fontsize=12)\n",
    "ax.set_ylabel('Pop. size (normalized)', fontsize=12)\n",
    "pass;"
   ]
  },
  {
   "cell_type": "code",
   "execution_count": null,
   "id": "453f8b03-268e-4ad6-aad6-019f190c1930",
   "metadata": {},
   "outputs": [],
   "source": []
  }
 ],
 "metadata": {
  "kernelspec": {
   "display_name": "Python 3",
   "language": "python",
   "name": "python3"
  },
  "language_info": {
   "codemirror_mode": {
    "name": "ipython",
    "version": 3
   },
   "file_extension": ".py",
   "mimetype": "text/x-python",
   "name": "python",
   "nbconvert_exporter": "python",
   "pygments_lexer": "ipython3",
   "version": "3.8.5"
  }
 },
 "nbformat": 4,
 "nbformat_minor": 5
}
