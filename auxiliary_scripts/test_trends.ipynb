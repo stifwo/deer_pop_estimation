{
 "cells": [
  {
   "cell_type": "code",
   "execution_count": 1,
   "id": "ready-sympathy",
   "metadata": {},
   "outputs": [],
   "source": [
    "#%load_ext lab_black"
   ]
  },
  {
   "cell_type": "code",
   "execution_count": 42,
   "id": "afraid-subcommittee",
   "metadata": {},
   "outputs": [],
   "source": [
    "import numpy as np\n",
    "import pandas as pd\n",
    "import matplotlib.pyplot as plt\n",
    "import ipyparallel as ipp\n",
    "\n",
    "import pymannkendall as mk\n",
    "\n",
    "\n",
    "import gc\n",
    "import timeit\n",
    "import sys\n",
    "import os\n",
    "\n",
    "from random import normalvariate\n",
    "from statsmodels.tsa.stattools import adfuller\n",
    "from statsmodels.tsa.stattools import kpss\n",
    "from scipy.stats import shapiro\n",
    "from IPython.core.interactiveshell import InteractiveShell\n",
    "\n",
    "InteractiveShell.ast_node_interactivity = \"all\""
   ]
  },
  {
   "cell_type": "markdown",
   "id": "bcd02bec-4210-48b0-8127-ded93bfb9d24",
   "metadata": {},
   "source": [
    "## Test propensity of normal and uniform distributions to generate trends\n",
    "\n",
    "### Fixed mean or base value\n",
    "\n",
    "https://www.geeksforgeeks.org/how-to-perform-a-mann-kendall-trend-test-in-python/\n",
    "\n",
    "https://www.statisticshowto.com/mann-kendall-trend-test/ : The test can be used to find trends for as few as four samples. However, with only a few data points, the test has a high probability of not finding a trend when one would be present if more points were provided. The more data points you have the more likely the test is going to find a true trend (as opposed to one found by chance). The minimum number of recommended measurements is therefore at least 8 to 10.\n",
    "\n",
    "The Mann-Kendall Trend Test analyzes difference in signs between earlier and later data points. The idea is that if a trend is present, the sign values will tend to increase constantly, or decrease constantly. Every value is compared to every value preceding it in the time series, which gives a total of n(n – 1) / 2 pairs of data, where “n” is the number of observations in the set. For example, if you have 20 observations, the number of pairwise comparisons is:\n",
    "20(20 – 1) / 2 = 20(19)/2 = 380/2 = 190."
   ]
  },
  {
   "cell_type": "code",
   "execution_count": 2,
   "id": "f2e776b4-762c-42de-b3f7-835dfd34c49f",
   "metadata": {
    "tags": []
   },
   "outputs": [
    {
     "name": "stdout",
     "output_type": "stream",
     "text": [
      "Probability for no trend using Mann_Kendall_Test on normal distribution: 0.9561\n"
     ]
    }
   ],
   "source": [
    "# Normal distribution \n",
    "c_v = [0.218, 0.110, 0.308, 0.151, 0.164, 0.179]\n",
    "mu = 2000\n",
    "sigma = mu*c_v[2]\n",
    "synt_obs = np.random.normal(mu, sigma, (10000,15))\n",
    "\n",
    "M_K = []\n",
    "for i in range(len(synt_obs)):\n",
    "    # perform Mann-Kendall Trend Test\n",
    "    test_stat = mk.original_test(synt_obs[i,:])\n",
    "    M_K.append(test_stat[0])\n",
    "    \n",
    "prob_no_trend = {item: M_K.count(item) for item in M_K}\n",
    "print(\"Probability for no trend using Mann_Kendall_Test on normal distribution:\", prob_no_trend.get('no trend')/len(synt_obs))"
   ]
  },
  {
   "cell_type": "code",
   "execution_count": 3,
   "id": "83e10cd4-a3b6-44d0-96b4-0723dd36c472",
   "metadata": {
    "tags": []
   },
   "outputs": [
    {
     "name": "stdout",
     "output_type": "stream",
     "text": [
      "Probability for no trend using Mann_Kendall_Test on uniform distribution: 0.9528\n"
     ]
    }
   ],
   "source": [
    "# Uniform distribution \n",
    "c_v = [0.218, 0.110, 0.308, 0.151, 0.164, 0.179]\n",
    "mu = 2000\n",
    "synt_obs = np.random.uniform(mu*0.5, mu*1.5, (10000,15))\n",
    "M_K = []\n",
    "for i in range(len(synt_obs)):\n",
    "    # perform Mann-Kendall Trend Test\n",
    "    test_stat = mk.original_test(synt_obs[i,:])\n",
    "    M_K.append(test_stat[0])\n",
    "    \n",
    "prob_no_trend = {item: M_K.count(item) for item in M_K}\n",
    "print(\"Probability for no trend using Mann_Kendall_Test on uniform distribution:\", prob_no_trend.get('no trend')/len(synt_obs))"
   ]
  },
  {
   "cell_type": "markdown",
   "id": "1faac5a8-4694-478e-9d22-43b61fcb5019",
   "metadata": {
    "tags": []
   },
   "source": [
    "## Do M-K test on seen_deer data"
   ]
  },
  {
   "cell_type": "code",
   "execution_count": 4,
   "id": "63f932d4-56fd-4cc0-9aee-b181eca179cd",
   "metadata": {
    "tags": []
   },
   "outputs": [],
   "source": [
    "# Revoking stored reported data\n",
    "# https://ipython.org/ipython-doc/rel-0.12/config/extensions/storemagic.html\n",
    "\n",
    "%store -r data_Averoy\n",
    "%store -r data_Tingvoll\n",
    "%store -r data_Surnadal\n",
    "%store -r data_Sunndal\n",
    "%store -r data_Vestnes\n",
    "%store -r data_Laerdal"
   ]
  },
  {
   "cell_type": "code",
   "execution_count": 30,
   "id": "fcb2ccf5-f13b-4da6-aeea-e20a98359ca6",
   "metadata": {
    "tags": []
   },
   "outputs": [
    {
     "name": "stdout",
     "output_type": "stream",
     "text": [
      "Mann_Kendall_Test(trend='no trend', h=False, p=0.09123902905538861, z=-1.688897736871851, Tau=-0.3088235294117647, s=-42.0, var_s=589.3333333333334, slope=-0.029999999999999957, intercept=1.4299999999999997)\n",
      "Mann_Kendall_Test(trend='no trend', h=False, p=0.1244546763464569, z=-1.5363413772941894, Tau=-0.27941176470588236, s=-38.0, var_s=580.0, slope=-0.003923076923076915, intercept=0.5713846153846154)\n",
      "Mann_Kendall_Test(trend='no trend', h=False, p=0.5366482363005154, z=-0.6178894159287259, Tau=-0.11764705882352941, s=-16.0, var_s=589.3333333333334, slope=-0.008500000000000008, intercept=0.9780000000000001)\n",
      "Mann_Kendall_Test(trend='no trend', h=False, p=0.5324451122785512, z=-0.6242778738200958, Tau=-0.11764705882352941, s=-16.0, var_s=577.3333333333334, slope=-0.0021825396825396813, intercept=0.40746031746031747)\n",
      "Mann_Kendall_Test(trend='no trend', h=False, p=0.4338268403653007, z=-0.7826599268430529, Tau=-0.14705882352941177, s=-20.0, var_s=589.3333333333334, slope=-0.0033484848484848515, intercept=0.6847878787878788)\n",
      "Mann_Kendall_Test(trend='no trend', h=False, p=0.4312088997687713, z=0.7871246517492032, Tau=0.14705882352941177, s=20.0, var_s=582.6666666666666, slope=0.0019090909090909093, intercept=0.22472727272727272)\n"
     ]
    }
   ],
   "source": [
    "municipalities = [\"Averoy\", \"Tingvoll\", \"Surnadal\", \"Sunndal\", \"Vestnes\", \"Laerdal\"]\n",
    "data_municipality = [\n",
    "    data_Averoy,\n",
    "    data_Tingvoll,\n",
    "    data_Surnadal,\n",
    "    data_Sunndal,\n",
    "    data_Vestnes,\n",
    "    data_Laerdal,\n",
    "]\n",
    "for q in range(len(municipalities)):\n",
    "    [\n",
    "        municipality,\n",
    "        first_year,\n",
    "        last_year,\n",
    "        number_of_years,\n",
    "        years,\n",
    "        seen_deer_obs,\n",
    "        seen_deer_obs_forest,\n",
    "        seen_deer_obs_farmland,\n",
    "        hinds_per_stag_obs,\n",
    "        total_harvest,\n",
    "        total_quota,\n",
    "        fraction_female_calves_harvested,\n",
    "        fraction_young_hinds_harvested,\n",
    "        fraction_adult_hinds_harvested,\n",
    "        fraction_male_calves_harvested,\n",
    "        fraction_young_stags_harvested,\n",
    "        fraction_adult_stags_harvested,\n",
    "        spring_counts,\n",
    "    ] = data_municipality[q]\n",
    "    \n",
    "    if q == 2:\n",
    "            seen_deer_obs = seen_deer_obs_farmland\n",
    "    else:\n",
    "        seen_deer_obs = seen_deer_obs\n",
    "        \n",
    "    test_stat = mk.original_test(seen_deer_obs)\n",
    "    #print(municipalities[q],\":\", test_stat[0])\n",
    "    print(test_stat)\n"
   ]
  },
  {
   "cell_type": "markdown",
   "id": "bd61a9ca-ade1-41b0-8d65-785c966a15e8",
   "metadata": {},
   "source": [
    "## Do M-K test on spring_count data"
   ]
  },
  {
   "cell_type": "code",
   "execution_count": 16,
   "id": "b2dae212-91c4-4cf7-8f49-dbc52071a812",
   "metadata": {
    "tags": []
   },
   "outputs": [
    {
     "name": "stdout",
     "output_type": "stream",
     "text": [
      "Tingvoll : increasing\n",
      "Surnadal : no trend\n",
      "Sunndal : increasing\n",
      "Vestnes : no trend\n",
      "Laerdal : no trend\n"
     ]
    }
   ],
   "source": [
    "municipalities = [\"Tingvoll\", \"Surnadal\", \"Sunndal\", \"Vestnes\", \"Laerdal\"]\n",
    "data_municipality = [\n",
    "    data_Tingvoll,\n",
    "    data_Surnadal,\n",
    "    data_Sunndal,\n",
    "    data_Vestnes,\n",
    "    data_Laerdal,\n",
    "]\n",
    "for q in range(len(municipalities)):\n",
    "    [\n",
    "        municipality,\n",
    "        first_year,\n",
    "        last_year,\n",
    "        number_of_years,\n",
    "        years,\n",
    "        seen_deer_obs,\n",
    "        seen_deer_obs_forest,\n",
    "        seen_deer_obs_farmland,\n",
    "        hinds_per_stag_obs,\n",
    "        total_harvest,\n",
    "        total_quota,\n",
    "        fraction_female_calves_harvested,\n",
    "        fraction_young_hinds_harvested,\n",
    "        fraction_adult_hinds_harvested,\n",
    "        fraction_male_calves_harvested,\n",
    "        fraction_young_stags_harvested,\n",
    "        fraction_adult_stags_harvested,\n",
    "        spring_counts,\n",
    "    ] = data_municipality[q]\n",
    "        \n",
    "    test_stat = mk.original_test(spring_counts)\n",
    "    print(municipalities[q],\":\", test_stat[0])"
   ]
  },
  {
   "cell_type": "markdown",
   "id": "33294148-a187-4be1-88a0-edf5268929cf",
   "metadata": {},
   "source": [
    "## Do M-K test on hinds_per_stag data and find mean values"
   ]
  },
  {
   "cell_type": "code",
   "execution_count": 6,
   "id": "fd5d6896-e0d1-43f3-9c25-bdcc618ce8fa",
   "metadata": {
    "tags": []
   },
   "outputs": [
    {
     "name": "stdout",
     "output_type": "stream",
     "text": [
      "Averoy : decreasing\n",
      "Averoy : 2.3658823529411763\n",
      "\n",
      "Tingvoll : increasing\n",
      "Tingvoll : 2.166470588235294\n",
      "\n",
      "Surnadal : decreasing\n",
      "Surnadal : 1.8605882352941179\n",
      "\n",
      "Sunndal : decreasing\n",
      "Sunndal : 1.7176470588235293\n",
      "\n",
      "Vestnes : no trend\n",
      "Vestnes : 1.7958823529411763\n",
      "\n",
      "Laerdal : no trend\n",
      "Laerdal : 1.7217647058823529\n",
      "\n"
     ]
    }
   ],
   "source": [
    "municipalities = [\"Averoy\", \"Tingvoll\", \"Surnadal\", \"Sunndal\", \"Vestnes\", \"Laerdal\"]\n",
    "data_municipality = [\n",
    "    data_Averoy,\n",
    "    data_Tingvoll,\n",
    "    data_Surnadal,\n",
    "    data_Sunndal,\n",
    "    data_Vestnes,\n",
    "    data_Laerdal,\n",
    "]\n",
    "for q in range(len(municipalities)):\n",
    "    [\n",
    "        municipality,\n",
    "        first_year,\n",
    "        last_year,\n",
    "        number_of_years,\n",
    "        years,\n",
    "        seen_deer_obs,\n",
    "        seen_deer_obs_forest,\n",
    "        seen_deer_obs_farmland,\n",
    "        hinds_per_stag_obs,\n",
    "        total_harvest,\n",
    "        total_quota,\n",
    "        fraction_female_calves_harvested,\n",
    "        fraction_young_hinds_harvested,\n",
    "        fraction_adult_hinds_harvested,\n",
    "        fraction_male_calves_harvested,\n",
    "        fraction_young_stags_harvested,\n",
    "        fraction_adult_stags_harvested,\n",
    "        spring_counts,\n",
    "    ] = data_municipality[q]\n",
    "        \n",
    "    test_stat = mk.original_test(hinds_per_stag_obs)\n",
    "    print(municipalities[q],\":\", test_stat[0])\n",
    "    print(municipalities[q],\":\", np.mean(np.array(hinds_per_stag_obs)))\n",
    "    print()"
   ]
  },
  {
   "cell_type": "markdown",
   "id": "8aac727d-6278-44ac-813a-4dc603017123",
   "metadata": {},
   "source": [
    "# Find CV and max relative distance from mean values of the seen_deer_per_hour data"
   ]
  },
  {
   "cell_type": "code",
   "execution_count": 10,
   "id": "840a8e5f-a6e5-4497-aad7-f08873ca465b",
   "metadata": {
    "tags": []
   },
   "outputs": [
    {
     "name": "stdout",
     "output_type": "stream",
     "text": [
      "Coefficient of variation: [0.24256566174492836, 0.12663386287325576, 0.29450760435855233, 0.14884485954168258, 0.15943202649851343, 0.16771896217427537]\n",
      "Mean cv: 0.18995049619853463\n",
      "\n",
      "Max relative distance from mean: [0.40575243965074487, 0.2754759238521835, 0.6062992125984251, 0.19610778443113766, 0.18805798214457145, 0.37413394919168586]\n",
      "Mean max relative distance from mean: 0.3409712153114581\n"
     ]
    }
   ],
   "source": [
    "municipalities = [\"Averoy\", \"Tingvoll\", \"Surnadal\", \"Sunndal\", \"Vestnes\", \"Laerdal\"]\n",
    "data_municipality = [\n",
    "    data_Averoy,\n",
    "    data_Tingvoll,\n",
    "    data_Surnadal,\n",
    "    data_Sunndal,\n",
    "    data_Vestnes,\n",
    "    data_Laerdal,\n",
    "]\n",
    "\n",
    "cv = []\n",
    "spread = []\n",
    "for q in range(len(municipalities)):\n",
    "    [\n",
    "        municipality,\n",
    "        first_year,\n",
    "        last_year,\n",
    "        number_of_years,\n",
    "        years,\n",
    "        seen_deer_obs,\n",
    "        seen_deer_obs_forest,\n",
    "        seen_deer_obs_farmland,\n",
    "        hinds_per_stag_obs,\n",
    "        total_harvest,\n",
    "        total_quota,\n",
    "        fraction_female_calves_harvested,\n",
    "        fraction_young_hinds_harvested,\n",
    "        fraction_adult_hinds_harvested,\n",
    "        fraction_male_calves_harvested,\n",
    "        fraction_young_stags_harvested,\n",
    "        fraction_adult_stags_harvested,\n",
    "        spring_counts,\n",
    "    ] = data_municipality[q]\n",
    "        \n",
    "    if q == 2:\n",
    "        seen_deer_obs = seen_deer_obs_farmland\n",
    "    else:\n",
    "        seen_deer_obs = seen_deer_obs\n",
    "    \n",
    "    seen_deer_obs = np.array(seen_deer_obs)\n",
    "    cv.append(np.std(seen_deer_obs)/np.mean(seen_deer_obs))\n",
    "    \n",
    "    spread.append(np.max(abs(seen_deer_obs)-np.mean(seen_deer_obs))/np.mean(seen_deer_obs))\n",
    "\n",
    "print(\"Coefficient of variation:\", cv)\n",
    "print(\"Mean cv:\", np.mean(np.array(cv)))\n",
    "print()\n",
    "print(\"Max relative distance from mean:\", spread)\n",
    "print(\"Mean max relative distance from mean:\", np.mean(np.array(spread)))"
   ]
  },
  {
   "cell_type": "markdown",
   "id": "5d89df4c-3187-424b-a3b3-38b8a6282e78",
   "metadata": {},
   "source": [
    "## Displaying seen_deer patterns for Surnadal"
   ]
  },
  {
   "cell_type": "code",
   "execution_count": 11,
   "id": "375a6d54-5fcf-456c-93f2-d0011167fba6",
   "metadata": {},
   "outputs": [],
   "source": [
    "[\n",
    "        municipality,\n",
    "        first_year,\n",
    "        last_year,\n",
    "        number_of_years,\n",
    "        years,\n",
    "        seen_deer_obs,\n",
    "        seen_deer_obs_forest,\n",
    "        seen_deer_obs_farmland,\n",
    "        hinds_per_stag_obs,\n",
    "        total_harvest,\n",
    "        total_quota,\n",
    "        fraction_female_calves_harvested,\n",
    "        fraction_young_hinds_harvested,\n",
    "        fraction_adult_hinds_harvested,\n",
    "        fraction_male_calves_harvested,\n",
    "        fraction_young_stags_harvested,\n",
    "        fraction_adult_stags_harvested,\n",
    "        spring_counts,\n",
    "    ] = data_municipality[2]"
   ]
  },
  {
   "cell_type": "code",
   "execution_count": 14,
   "id": "2a5c93f3-d29c-43a6-af0c-dab21fa7aa52",
   "metadata": {
    "tags": []
   },
   "outputs": [
    {
     "data": {
      "text/plain": [
       "[<matplotlib.lines.Line2D at 0x182321a30>]"
      ]
     },
     "execution_count": 14,
     "metadata": {},
     "output_type": "execute_result"
    },
    {
     "data": {
      "text/plain": [
       "[<matplotlib.lines.Line2D at 0x18231ba30>]"
      ]
     },
     "execution_count": 14,
     "metadata": {},
     "output_type": "execute_result"
    },
    {
     "data": {
      "image/png": "[encoded data removed]",
      "text/plain": [
       "<Figure size 432x432 with 1 Axes>"
      ]
     },
     "metadata": {
      "needs_background": "light"
     },
     "output_type": "display_data"
    }
   ],
   "source": [
    "fig, ax = plt.subplots(nrows=1, ncols=1, figsize=(6, 6))\n",
    "time = np.arange(2007,2024,1)\n",
    "ax.plot(time,seen_deer_obs_farmland,'r*')\n",
    "ax.plot(time,seen_deer_obs, 'b*')"
   ]
  },
  {
   "cell_type": "markdown",
   "id": "ffab9a24-1338-4a1f-84f2-2af8686151ec",
   "metadata": {},
   "source": [
    "## Semi_average analyses to assay trends"
   ]
  },
  {
   "cell_type": "code",
   "execution_count": 17,
   "id": "885b8829-775b-4066-bcba-b70b10217dda",
   "metadata": {},
   "outputs": [
    {
     "name": "stdout",
     "output_type": "stream",
     "text": [
      "Averoy : Ratio seen_deer =  0.8411764705882352\n",
      "Tingvoll : Ratio seen_deer =  0.9697674418604649\n",
      "Surnadal : Ratio seen_deer =  0.895077720207254\n",
      "Sunndal : Ratio seen_deer =  1.006349206349206\n",
      "Vestnes : Ratio seen_deer =  0.9766140315810514\n",
      "Laerdal : Ratio seen_deer =  1.0247524752475248\n"
     ]
    }
   ],
   "source": [
    "# Seen-deer \n",
    "municipalities = [\"Averoy\", \"Tingvoll\", \"Surnadal\", \"Sunndal\", \"Vestnes\", \"Laerdal\"]\n",
    "data_municipality = [\n",
    "    data_Averoy,\n",
    "    data_Tingvoll,\n",
    "    data_Surnadal,\n",
    "    data_Sunndal,\n",
    "    data_Vestnes,\n",
    "    data_Laerdal,\n",
    "]\n",
    "\n",
    "q = 0\n",
    "for municipality in municipalities:\n",
    "    [\n",
    "        municipality,\n",
    "        first_year,\n",
    "        last_year,\n",
    "        number_of_years,\n",
    "        years,\n",
    "        seen_deer_obs,\n",
    "        seen_deer_obs_forest,\n",
    "        seen_deer_obs_farmland,\n",
    "        hinds_per_stag_obs,\n",
    "        total_harvest,\n",
    "        total_quota,\n",
    "        fraction_female_calves_harvested,\n",
    "        fraction_young_hinds_harvested,\n",
    "        fraction_adult_hinds_harvested,\n",
    "        fraction_male_calves_harvested,\n",
    "        fraction_young_stags_harvested,\n",
    "        fraction_adult_stags_harvested,\n",
    "        spring_counts,\n",
    "    ] = data_municipality[q]\n",
    "\n",
    "    if q == 2:\n",
    "        seen_deer_obs = np.array(seen_deer_obs_farmland)\n",
    "    else:\n",
    "        seen_deer_obs = np.array(seen_deer_obs)\n",
    "\n",
    "    ratio_seen_deer = seen_deer_obs[9:17].mean() / seen_deer_obs[0:8].mean()\n",
    "    print(municipality, \": Ratio seen_deer = \", ratio_seen_deer)\n",
    "    q = q + 1"
   ]
  },
  {
   "cell_type": "code",
   "execution_count": 19,
   "id": "fa7e3860-0f06-4e31-9913-4557d71843cb",
   "metadata": {
    "tags": []
   },
   "outputs": [
    {
     "name": "stdout",
     "output_type": "stream",
     "text": [
      "Tingvoll : Ratio spring counts =  1.4546668892970447\n",
      "Surnadal : Ratio spring counts =  1.1364529380246473\n",
      "Sunndal : Ratio spring counts =  1.7154374440131384\n",
      "Vestnes : Ratio spring counts =  1.1574551270659321\n",
      "Laerdal : Ratio spring counts =  1.232851143257116\n"
     ]
    }
   ],
   "source": [
    "# Spring counts\n",
    "municipalities = [\"Tingvoll\", \"Surnadal\", \"Sunndal\", \"Vestnes\", \"Laerdal\"]\n",
    "data_municipality = [\n",
    "    data_Tingvoll,\n",
    "    data_Surnadal,\n",
    "    data_Sunndal,\n",
    "    data_Vestnes,\n",
    "    data_Laerdal,\n",
    "]\n",
    "\n",
    "q = 0\n",
    "for municipality in municipalities:\n",
    "    [\n",
    "        municipality,\n",
    "        first_year,\n",
    "        last_year,\n",
    "        number_of_years,\n",
    "        years,\n",
    "        seen_deer_obs,\n",
    "        seen_deer_obs_forest,\n",
    "        seen_deer_obs_farmland,\n",
    "        hinds_per_stag_obs,\n",
    "        total_harvest,\n",
    "        total_quota,\n",
    "        fraction_female_calves_harvested,\n",
    "        fraction_young_hinds_harvested,\n",
    "        fraction_adult_hinds_harvested,\n",
    "        fraction_male_calves_harvested,\n",
    "        fraction_young_stags_harvested,\n",
    "        fraction_adult_stags_harvested,\n",
    "        spring_counts,\n",
    "    ] = data_municipality[q]\n",
    "\n",
    "    spring_counts = np.array(spring_counts)\n",
    "    ratio_spring_counts = spring_counts[9:17].mean() / spring_counts[0:8].mean()\n",
    "    print(municipality, \": Ratio spring counts = \", ratio_spring_counts)\n",
    "    q = q + 1"
   ]
  },
  {
   "cell_type": "markdown",
   "id": "fd5a69b2-da2d-4d84-9624-ebc43775ea0b",
   "metadata": {
    "tags": []
   },
   "source": [
    "## Do Augmented Dickey-Fuller test on seen_deer data"
   ]
  },
  {
   "cell_type": "markdown",
   "id": "0012b9ef-a960-459f-b054-d2dbc156c11f",
   "metadata": {},
   "source": [
    "https://machinelearningmastery.com/time-series-data-stationary-python/ : The null hypothesis of the test is that the time series can be represented by a unit root, that it is not stationary (has some time-dependent structure). The alternate hypothesis (rejecting the null hypothesis) is that the time series is stationary.\n",
    "\n",
    "p-value > 0.05: Fail to reject the null hypothesis (H0), the data has a unit root and is non-stationary.\n",
    "\n",
    "p-value <= 0.05: Reject the null hypothesis (H0), the data does not have a unit root and is stationary."
   ]
  },
  {
   "cell_type": "code",
   "execution_count": 23,
   "id": "e2035858-7ada-4c86-8439-89782dcccd90",
   "metadata": {
    "tags": []
   },
   "outputs": [
    {
     "name": "stdout",
     "output_type": "stream",
     "text": [
      "Averoy :\n",
      "ADF Statistic: -3.932202\n",
      "p-value: 0.001810\n",
      "Critical Values:\n",
      "\t1%: -4.138\n",
      "\t5%: -3.155\n",
      "\t10%: -2.714\n",
      "\n",
      "Tingvoll :\n",
      "ADF Statistic: 1.107427\n",
      "p-value: 0.995280\n",
      "Critical Values:\n",
      "\t1%: -4.332\n",
      "\t5%: -3.233\n",
      "\t10%: -2.749\n",
      "\n",
      "Surnadal :\n",
      "ADF Statistic: -1.565632\n",
      "p-value: 0.500831\n",
      "Critical Values:\n",
      "\t1%: -4.069\n",
      "\t5%: -3.127\n",
      "\t10%: -2.702\n",
      "\n",
      "Sunndal :\n",
      "ADF Statistic: -5.491256\n",
      "p-value: 0.000002\n",
      "Critical Values:\n",
      "\t1%: -3.924\n",
      "\t5%: -3.068\n",
      "\t10%: -2.674\n",
      "\n",
      "Vestnes :\n",
      "ADF Statistic: -2.347445\n",
      "p-value: 0.157122\n",
      "Critical Values:\n",
      "\t1%: -4.223\n",
      "\t5%: -3.189\n",
      "\t10%: -2.730\n",
      "\n",
      "Laerdal :\n",
      "ADF Statistic: -2.196532\n",
      "p-value: 0.207507\n",
      "Critical Values:\n",
      "\t1%: -4.332\n",
      "\t5%: -3.233\n",
      "\t10%: -2.749\n",
      "\n"
     ]
    },
    {
     "data": {
      "image/png": "[encoded data removed]",
      "text/plain": [
       "<Figure size 864x864 with 6 Axes>"
      ]
     },
     "metadata": {
      "needs_background": "light"
     },
     "output_type": "display_data"
    }
   ],
   "source": [
    "municipalities = [\"Averoy\", \"Tingvoll\", \"Surnadal\", \"Sunndal\", \"Vestnes\", \"Laerdal\"]\n",
    "data_municipality = [\n",
    "    data_Averoy,\n",
    "    data_Tingvoll,\n",
    "    data_Surnadal,\n",
    "    data_Sunndal,\n",
    "    data_Vestnes,\n",
    "    data_Laerdal,\n",
    "]\n",
    "\n",
    "fig, ax = plt.subplots(nrows=6, ncols=1, figsize=(12, 12))\n",
    "years = np.arange(2007,2024,1)\n",
    "time_axis = np.arange(number_of_years)\n",
    "\n",
    "for q in range(len(municipalities)):\n",
    "    [\n",
    "        municipality,\n",
    "        first_year,\n",
    "        last_year,\n",
    "        number_of_years,\n",
    "        years,\n",
    "        seen_deer_obs,\n",
    "        seen_deer_obs_forest,\n",
    "        seen_deer_obs_farmland,\n",
    "        hinds_per_stag_obs,\n",
    "        total_harvest,\n",
    "        total_quota,\n",
    "        fraction_female_calves_harvested,\n",
    "        fraction_young_hinds_harvested,\n",
    "        fraction_adult_hinds_harvested,\n",
    "        fraction_male_calves_harvested,\n",
    "        fraction_young_stags_harvested,\n",
    "        fraction_adult_stags_harvested,\n",
    "        spring_counts,\n",
    "    ] = data_municipality[q]\n",
    "    \n",
    "    if q == 2:\n",
    "            seen_deer_obs = seen_deer_obs_farmland\n",
    "    else:\n",
    "        seen_deer_obs = seen_deer_obs\n",
    "        \n",
    "    result = adfuller(seen_deer_obs)\n",
    "    print(municipalities[q],\":\")\n",
    "    \n",
    "    ax[q].plot(time_axis,seen_deer_obs, 'r*')\n",
    "    \n",
    "    ax[q].set_xticks(time_axis)\n",
    "    ax[q].set_xticklabels([])\n",
    "    if q == 5:\n",
    "        ax[q].set_xticklabels(years, rotation=\"vertical\")\n",
    "    ax[q].set_ylabel(municipality, fontsize=12)\n",
    "    \n",
    "    print('ADF Statistic: %f' % result[0])\n",
    "    print('p-value: %f' % result[1])\n",
    "    print('Critical Values:')\n",
    "    for key, value in result[4].items():\n",
    "     print('\\t%s: %.3f' % (key, value))\n",
    "    print()\n",
    "pass;"
   ]
  },
  {
   "cell_type": "markdown",
   "id": "193c2724-88e2-4151-a62b-c43e0ad3fb58",
   "metadata": {},
   "source": [
    "## Do Kwiatkowski-Phillips-Schmidt-Shin test for stationarity on seen_deer data"
   ]
  },
  {
   "cell_type": "markdown",
   "id": "5b2be920-a0a9-4576-b56d-242ca87f9322",
   "metadata": {},
   "source": [
    "https://medium.com/@reddyyashu20/kpss-vs-adf-test-with-example-and-python-code-1a6084189995 : KPSS is another test for checking the stationarity of a time series. The null and alternate hypothesis for the KPSS test are opposite that of the ADF test. The null hypothesis is that the process is trend stationary, while the alternate hypothesis is that the series has a unit root (series is not stationary).\n",
    "\n",
    "https://www.statsmodels.org/dev/examples/notebooks/generated/stationarity_detrending_adf_kpss.html : It is always better to apply both the tests, so that it can be ensured that the series is truly stationary. Possible outcomes of applying these stationary tests are as follows:\n",
    "\n",
    "Case 1: Both tests conclude that the series is not stationary - The series is not stationary\n",
    "\n",
    "Case 2: Both tests conclude that the series is stationary - The series is stationary\n",
    "\n",
    "Case 3: KPSS indicates stationarity and ADF indicates non-stationarity - The series is trend stationary. Trend needs to be removed to make series strict stationary. The detrended series is checked for stationarity.\n",
    "\n",
    "Case 4: KPSS indicates non-stationarity and ADF indicates stationarity - The series is difference stationary. Differencing is to be used to make series stationary. The differenced series is checked for stationarity."
   ]
  },
  {
   "cell_type": "code",
   "execution_count": 28,
   "id": "39125c32-7269-4dda-af1f-01df06ab89b2",
   "metadata": {
    "tags": []
   },
   "outputs": [
    {
     "name": "stderr",
     "output_type": "stream",
     "text": [
      "<ipython-input-28-5f502956cb88>:42: InterpolationWarning: The test statistic is outside of the range of p-values available in the\n",
      "look-up table. The actual p-value is greater than the p-value returned.\n",
      "\n",
      "  result = kpss(seen_deer_obs)\n",
      "<ipython-input-28-5f502956cb88>:54: InterpolationWarning: The test statistic is outside of the range of p-values available in the\n",
      "look-up table. The actual p-value is greater than the p-value returned.\n",
      "\n",
      "  kpsstest = kpss(seen_deer_obs, regression=\"c\", nlags=\"auto\")\n",
      "<ipython-input-28-5f502956cb88>:42: InterpolationWarning: The test statistic is outside of the range of p-values available in the\n",
      "look-up table. The actual p-value is greater than the p-value returned.\n",
      "\n",
      "  result = kpss(seen_deer_obs)\n",
      "<ipython-input-28-5f502956cb88>:54: InterpolationWarning: The test statistic is outside of the range of p-values available in the\n",
      "look-up table. The actual p-value is greater than the p-value returned.\n",
      "\n",
      "  kpsstest = kpss(seen_deer_obs, regression=\"c\", nlags=\"auto\")\n",
      "<ipython-input-28-5f502956cb88>:42: InterpolationWarning: The test statistic is outside of the range of p-values available in the\n",
      "look-up table. The actual p-value is greater than the p-value returned.\n",
      "\n",
      "  result = kpss(seen_deer_obs)\n",
      "<ipython-input-28-5f502956cb88>:54: InterpolationWarning: The test statistic is outside of the range of p-values available in the\n",
      "look-up table. The actual p-value is greater than the p-value returned.\n",
      "\n",
      "  kpsstest = kpss(seen_deer_obs, regression=\"c\", nlags=\"auto\")\n",
      "<ipython-input-28-5f502956cb88>:42: InterpolationWarning: The test statistic is outside of the range of p-values available in the\n",
      "look-up table. The actual p-value is greater than the p-value returned.\n",
      "\n",
      "  result = kpss(seen_deer_obs)\n",
      "<ipython-input-28-5f502956cb88>:54: InterpolationWarning: The test statistic is outside of the range of p-values available in the\n",
      "look-up table. The actual p-value is greater than the p-value returned.\n",
      "\n",
      "  kpsstest = kpss(seen_deer_obs, regression=\"c\", nlags=\"auto\")\n",
      "<ipython-input-28-5f502956cb88>:42: InterpolationWarning: The test statistic is outside of the range of p-values available in the\n",
      "look-up table. The actual p-value is greater than the p-value returned.\n",
      "\n",
      "  result = kpss(seen_deer_obs)\n",
      "<ipython-input-28-5f502956cb88>:54: InterpolationWarning: The test statistic is outside of the range of p-values available in the\n",
      "look-up table. The actual p-value is greater than the p-value returned.\n",
      "\n",
      "  kpsstest = kpss(seen_deer_obs, regression=\"c\", nlags=\"auto\")\n"
     ]
    },
    {
     "name": "stdout",
     "output_type": "stream",
     "text": [
      "Averoy :\n",
      "Results of KPSS Test:\n",
      "Test Statistic           0.315272\n",
      "p-value                  0.100000\n",
      "Lags Used                1.000000\n",
      "Critical Value (10%)     0.347000\n",
      "Critical Value (5%)      0.463000\n",
      "Critical Value (2.5%)    0.574000\n",
      "Critical Value (1%)      0.739000\n",
      "dtype: float64\n",
      "\n",
      "Tingvoll :\n",
      "Results of KPSS Test:\n",
      "Test Statistic           0.235225\n",
      "p-value                  0.100000\n",
      "Lags Used                0.000000\n",
      "Critical Value (10%)     0.347000\n",
      "Critical Value (5%)      0.463000\n",
      "Critical Value (2.5%)    0.574000\n",
      "Critical Value (1%)      0.739000\n",
      "dtype: float64\n",
      "\n",
      "Surnadal :\n",
      "Results of KPSS Test:\n",
      "Test Statistic           0.376574\n",
      "p-value                  0.087252\n",
      "Lags Used                9.000000\n",
      "Critical Value (10%)     0.347000\n",
      "Critical Value (5%)      0.463000\n",
      "Critical Value (2.5%)    0.574000\n",
      "Critical Value (1%)      0.739000\n",
      "dtype: float64\n",
      "\n",
      "Sunndal :\n",
      "Results of KPSS Test:\n",
      "Test Statistic           0.138453\n",
      "p-value                  0.100000\n",
      "Lags Used                4.000000\n",
      "Critical Value (10%)     0.347000\n",
      "Critical Value (5%)      0.463000\n",
      "Critical Value (2.5%)    0.574000\n",
      "Critical Value (1%)      0.739000\n",
      "dtype: float64\n",
      "\n",
      "Vestnes :\n",
      "Results of KPSS Test:\n",
      "Test Statistic           0.180085\n",
      "p-value                  0.100000\n",
      "Lags Used                1.000000\n",
      "Critical Value (10%)     0.347000\n",
      "Critical Value (5%)      0.463000\n",
      "Critical Value (2.5%)    0.574000\n",
      "Critical Value (1%)      0.739000\n",
      "dtype: float64\n",
      "\n",
      "Laerdal :\n",
      "Results of KPSS Test:\n",
      "Test Statistic           0.118331\n",
      "p-value                  0.100000\n",
      "Lags Used                2.000000\n",
      "Critical Value (10%)     0.347000\n",
      "Critical Value (5%)      0.463000\n",
      "Critical Value (2.5%)    0.574000\n",
      "Critical Value (1%)      0.739000\n",
      "dtype: float64\n",
      "\n"
     ]
    },
    {
     "data": {
      "image/png": "[encoded data removed]",
      "text/plain": [
       "<Figure size 864x864 with 6 Axes>"
      ]
     },
     "metadata": {
      "needs_background": "light"
     },
     "output_type": "display_data"
    }
   ],
   "source": [
    "municipalities = [\"Averoy\", \"Tingvoll\", \"Surnadal\", \"Sunndal\", \"Vestnes\", \"Laerdal\"]\n",
    "data_municipality = [\n",
    "    data_Averoy,\n",
    "    data_Tingvoll,\n",
    "    data_Surnadal,\n",
    "    data_Sunndal,\n",
    "    data_Vestnes,\n",
    "    data_Laerdal,\n",
    "]\n",
    "\n",
    "fig, ax = plt.subplots(nrows=6, ncols=1, figsize=(12, 12))\n",
    "years = np.arange(2007,2024,1)\n",
    "time_axis = np.arange(number_of_years)\n",
    "\n",
    "for q in range(len(municipalities)):\n",
    "    [\n",
    "        municipality,\n",
    "        first_year,\n",
    "        last_year,\n",
    "        number_of_years,\n",
    "        years,\n",
    "        seen_deer_obs,\n",
    "        seen_deer_obs_forest,\n",
    "        seen_deer_obs_farmland,\n",
    "        hinds_per_stag_obs,\n",
    "        total_harvest,\n",
    "        total_quota,\n",
    "        fraction_female_calves_harvested,\n",
    "        fraction_young_hinds_harvested,\n",
    "        fraction_adult_hinds_harvested,\n",
    "        fraction_male_calves_harvested,\n",
    "        fraction_young_stags_harvested,\n",
    "        fraction_adult_stags_harvested,\n",
    "        spring_counts,\n",
    "    ] = data_municipality[q]\n",
    "    \n",
    "    if q == 2:\n",
    "            seen_deer_obs = seen_deer_obs_farmland\n",
    "    else:\n",
    "        seen_deer_obs = seen_deer_obs\n",
    "        \n",
    "    result = kpss(seen_deer_obs)\n",
    "    print(municipalities[q],\":\")\n",
    "    \n",
    "    ax[q].plot(time_axis,seen_deer_obs, 'r*')\n",
    "    \n",
    "    ax[q].set_xticks(time_axis)\n",
    "    ax[q].set_xticklabels([])\n",
    "    if q == 5:\n",
    "        ax[q].set_xticklabels(years, rotation=\"vertical\")\n",
    "    ax[q].set_ylabel(municipality, fontsize=12)\n",
    "    \n",
    "    print(\"Results of KPSS Test:\")\n",
    "    kpsstest = kpss(seen_deer_obs, regression=\"c\", nlags=\"auto\")\n",
    "    kpss_output = pd.Series(\n",
    "        kpsstest[0:3], index=[\"Test Statistic\", \"p-value\", \"Lags Used\"]\n",
    "    )\n",
    "    for key, value in kpsstest[3].items():\n",
    "        kpss_output[\"Critical Value (%s)\" % key] = value\n",
    "    print(kpss_output)\n",
    "    print()\n",
    "pass;"
   ]
  },
  {
   "cell_type": "code",
   "execution_count": 29,
   "id": "4c3ca5ea-6dfd-4f13-84b8-6b965394dae2",
   "metadata": {
    "tags": []
   },
   "outputs": [
    {
     "data": {
      "text/plain": [
       "(0.11833107650643189,\n",
       " 0.1,\n",
       " 2,\n",
       " {'10%': 0.347, '5%': 0.463, '2.5%': 0.574, '1%': 0.739})"
      ]
     },
     "execution_count": 29,
     "metadata": {},
     "output_type": "execute_result"
    }
   ],
   "source": [
    "kpsstest"
   ]
  },
  {
   "cell_type": "markdown",
   "id": "7ec981e8-48ab-4e85-b4f0-60d98fdd61b9",
   "metadata": {},
   "source": [
    "## Testing the time series for normality"
   ]
  },
  {
   "cell_type": "code",
   "execution_count": 33,
   "id": "1e97b7d3-d011-430e-b560-5d86e56d6d0e",
   "metadata": {
    "tags": []
   },
   "outputs": [
    {
     "name": "stdout",
     "output_type": "stream",
     "text": [
      "Averoy :\n",
      "Results of Shapiro-Wilk Test:\n",
      "ShapiroResult(statistic=0.9518252611160278, pvalue=0.486022025346756)\n",
      "\n",
      "Tingvoll :\n",
      "Results of Shapiro-Wilk Test:\n",
      "ShapiroResult(statistic=0.9692114591598511, pvalue=0.8044752478599548)\n",
      "\n",
      "Surnadal :\n",
      "Results of Shapiro-Wilk Test:\n",
      "ShapiroResult(statistic=0.9210955500602722, pvalue=0.1541106402873993)\n",
      "\n",
      "Sunndal :\n",
      "Results of Shapiro-Wilk Test:\n",
      "ShapiroResult(statistic=0.9362215399742126, pvalue=0.2760675549507141)\n",
      "\n",
      "Vestnes :\n",
      "Results of Shapiro-Wilk Test:\n",
      "ShapiroResult(statistic=0.8982347249984741, pvalue=0.06346328556537628)\n",
      "\n",
      "Laerdal :\n",
      "Results of Shapiro-Wilk Test:\n",
      "ShapiroResult(statistic=0.9389108419418335, pvalue=0.3054972290992737)\n",
      "\n"
     ]
    },
    {
     "data": {
      "image/png": "[encoded data removed]",
      "text/plain": [
       "<Figure size 864x864 with 6 Axes>"
      ]
     },
     "metadata": {
      "needs_background": "light"
     },
     "output_type": "display_data"
    }
   ],
   "source": [
    "municipalities = [\"Averoy\", \"Tingvoll\", \"Surnadal\", \"Sunndal\", \"Vestnes\", \"Laerdal\"]\n",
    "data_municipality = [\n",
    "    data_Averoy,\n",
    "    data_Tingvoll,\n",
    "    data_Surnadal,\n",
    "    data_Sunndal,\n",
    "    data_Vestnes,\n",
    "    data_Laerdal,\n",
    "]\n",
    "\n",
    "fig, ax = plt.subplots(nrows=6, ncols=1, figsize=(12, 12))\n",
    "years = np.arange(2007,2024,1)\n",
    "time_axis = np.arange(number_of_years)\n",
    "\n",
    "for q in range(len(municipalities)):\n",
    "    [\n",
    "        municipality,\n",
    "        first_year,\n",
    "        last_year,\n",
    "        number_of_years,\n",
    "        years,\n",
    "        seen_deer_obs,\n",
    "        seen_deer_obs_forest,\n",
    "        seen_deer_obs_farmland,\n",
    "        hinds_per_stag_obs,\n",
    "        total_harvest,\n",
    "        total_quota,\n",
    "        fraction_female_calves_harvested,\n",
    "        fraction_young_hinds_harvested,\n",
    "        fraction_adult_hinds_harvested,\n",
    "        fraction_male_calves_harvested,\n",
    "        fraction_young_stags_harvested,\n",
    "        fraction_adult_stags_harvested,\n",
    "        spring_counts,\n",
    "    ] = data_municipality[q]\n",
    "    \n",
    "    if q == 2:\n",
    "            seen_deer_obs = seen_deer_obs_farmland\n",
    "    else:\n",
    "        seen_deer_obs = seen_deer_obs\n",
    "        \n",
    "    result = shapiro(seen_deer_obs)\n",
    "    print(municipalities[q],\":\")\n",
    "    \n",
    "    ax[q].plot(time_axis,seen_deer_obs, 'r*')\n",
    "    \n",
    "    ax[q].set_xticks(time_axis)\n",
    "    ax[q].set_xticklabels([])\n",
    "    if q == 5:\n",
    "        ax[q].set_xticklabels(years, rotation=\"vertical\")\n",
    "    ax[q].set_ylabel(municipality, fontsize=12)\n",
    "    \n",
    "    print(\"Results of Shapiro-Wilk Test:\")\n",
    "    print(result)\n",
    "    print()\n",
    "pass;"
   ]
  },
  {
   "cell_type": "markdown",
   "id": "240bd012-e716-4677-818d-dccb837476f3",
   "metadata": {},
   "source": [
    "## Kolmogorov-Smirnov test for uniformity"
   ]
  },
  {
   "cell_type": "code",
   "execution_count": 41,
   "id": "85465b44-5384-4bc5-a92e-c74b806d7582",
   "metadata": {
    "tags": []
   },
   "outputs": [
    {
     "name": "stdout",
     "output_type": "stream",
     "text": [
      "Averoy :\n",
      "Results of Kolmogorov-Smirnov Test:\n",
      "KstestResult(statistic=0.47619047619047616, pvalue=0.00046020013734549003, statistic_location=1.61, statistic_sign=1)\n",
      "\n",
      "Tingvoll :\n",
      "Results of Kolmogorov-Smirnov Test:\n",
      "KstestResult(statistic=0.5323383084577115, pvalue=5.0253600592983266e-05, statistic_location=0.67, statistic_sign=1)\n",
      "\n",
      "Surnadal :\n",
      "Results of Kolmogorov-Smirnov Test:\n",
      "KstestResult(statistic=0.4957788671023965, pvalue=0.0002203347638848703, statistic_location=1.11, statistic_sign=1)\n",
      "\n",
      "Sunndal :\n",
      "Results of Kolmogorov-Smirnov Test:\n",
      "KstestResult(statistic=0.5106382978723405, pvalue=0.0001228557614335331, statistic_location=0.47, statistic_sign=1)\n",
      "\n",
      "Vestnes :\n",
      "Results of Kolmogorov-Smirnov Test:\n",
      "KstestResult(statistic=0.5022893772893773, pvalue=0.00017105050849522575, statistic_location=0.728, statistic_sign=1)\n",
      "\n",
      "Laerdal :\n",
      "Results of Kolmogorov-Smirnov Test:\n",
      "KstestResult(statistic=0.5142857142857142, pvalue=0.00010607989743824424, statistic_location=0.35, statistic_sign=1)\n",
      "\n"
     ]
    },
    {
     "data": {
      "image/png": "[encoded data removed]",
      "text/plain": [
       "<Figure size 864x864 with 6 Axes>"
      ]
     },
     "metadata": {
      "needs_background": "light"
     },
     "output_type": "display_data"
    }
   ],
   "source": [
    "from scipy import stats\n",
    "municipalities = [\"Averoy\", \"Tingvoll\", \"Surnadal\", \"Sunndal\", \"Vestnes\", \"Laerdal\"]\n",
    "data_municipality = [\n",
    "    data_Averoy,\n",
    "    data_Tingvoll,\n",
    "    data_Surnadal,\n",
    "    data_Sunndal,\n",
    "    data_Vestnes,\n",
    "    data_Laerdal,\n",
    "]\n",
    "\n",
    "fig, ax = plt.subplots(nrows=6, ncols=1, figsize=(12, 12))\n",
    "years = np.arange(2007,2024,1)\n",
    "time_axis = np.arange(number_of_years)\n",
    "\n",
    "for q in range(len(municipalities)):\n",
    "    [\n",
    "        municipality,\n",
    "        first_year,\n",
    "        last_year,\n",
    "        number_of_years,\n",
    "        years,\n",
    "        seen_deer_obs,\n",
    "        seen_deer_obs_forest,\n",
    "        seen_deer_obs_farmland,\n",
    "        hinds_per_stag_obs,\n",
    "        total_harvest,\n",
    "        total_quota,\n",
    "        fraction_female_calves_harvested,\n",
    "        fraction_young_hinds_harvested,\n",
    "        fraction_adult_hinds_harvested,\n",
    "        fraction_male_calves_harvested,\n",
    "        fraction_young_stags_harvested,\n",
    "        fraction_adult_stags_harvested,\n",
    "        spring_counts,\n",
    "    ] = data_municipality[q]\n",
    "    \n",
    "    if q == 2:\n",
    "            seen_deer_obs = seen_deer_obs_farmland\n",
    "    else:\n",
    "        seen_deer_obs = seen_deer_obs\n",
    "        \n",
    "    seen_deer_obs = np.array(seen_deer_obs)\n",
    "    upper_bound = 1.5*max(seen_deer_obs)\n",
    "    lower_bound = 0.5*min(seen_deer_obs)\n",
    "    result = stats.kstest(seen_deer_obs, stats.uniform(loc=lower_bound, scale=upper_bound).cdf)\n",
    "    print(municipalities[q],\":\")\n",
    "    \n",
    "    ax[q].plot(time_axis,seen_deer_obs, 'r*')\n",
    "    \n",
    "    ax[q].set_xticks(time_axis)\n",
    "    ax[q].set_xticklabels([])\n",
    "    if q == 5:\n",
    "        ax[q].set_xticklabels(years, rotation=\"vertical\")\n",
    "    ax[q].set_ylabel(municipality, fontsize=12)\n",
    "    \n",
    "    print(\"Results of Kolmogorov-Smirnov Test:\")\n",
    "    print(result)\n",
    "    print()\n",
    "pass;"
   ]
  },
  {
   "cell_type": "code",
   "execution_count": null,
   "id": "a9f43bb2-e875-40bb-8fb7-699255e1e0a8",
   "metadata": {},
   "outputs": [],
   "source": []
  }
 ],
 "metadata": {
  "kernelspec": {
   "display_name": "Python 3",
   "language": "python",
   "name": "python3"
  },
  "language_info": {
   "codemirror_mode": {
    "name": "ipython",
    "version": 3
   },
   "file_extension": ".py",
   "mimetype": "text/x-python",
   "name": "python",
   "nbconvert_exporter": "python",
   "pygments_lexer": "ipython3",
   "version": "3.8.5"
  }
 },
 "nbformat": 4,
 "nbformat_minor": 5
}
