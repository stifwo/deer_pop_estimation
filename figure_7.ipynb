{
 "cells": [
  {
   "cell_type": "code",
   "execution_count": 1,
   "id": "adjusted-adolescent",
   "metadata": {},
   "outputs": [],
   "source": [
    "#%load_ext lab_black"
   ]
  },
  {
   "cell_type": "code",
   "execution_count": 2,
   "id": "amber-perspective",
   "metadata": {},
   "outputs": [],
   "source": [
    "import numpy as np\n",
    "import pandas as pd\n",
    "import matplotlib.pyplot as plt\n",
    "import matplotlib.ticker as ticker\n",
    "\n",
    "from matplotlib.ticker import FormatStrFormatter\n",
    "from datetime import datetime\n",
    "from IPython.core.interactiveshell import InteractiveShell\n",
    "from sklearn.linear_model import LinearRegression\n",
    "\n",
    "InteractiveShell.ast_node_interactivity = \"all\""
   ]
  },
  {
   "cell_type": "markdown",
   "id": "spiritual-butter",
   "metadata": {},
   "source": [
    "# Loading reported and synthetic data"
   ]
  },
  {
   "cell_type": "code",
   "execution_count": 3,
   "id": "joint-window",
   "metadata": {},
   "outputs": [],
   "source": [
    "# Revoking stored reported data\n",
    "# https://ipython.org/ipython-doc/rel-0.12/config/extensions/storemagic.html\n",
    "\n",
    "%store -r data_Averoy\n",
    "%store -r data_Tingvoll\n",
    "%store -r data_Surnadal\n",
    "%store -r data_Sunndal\n",
    "%store -r data_Vestnes\n",
    "%store -r data_Laerdal"
   ]
  },
  {
   "cell_type": "code",
   "execution_count": 4,
   "id": "little-conversion",
   "metadata": {},
   "outputs": [],
   "source": [
    "# Revoking top hits frames created by the seen deer estimator\n",
    "save_dir = \"synthetic_data/\"\n",
    "# With option for emigration\n",
    "top_hits_Averoy_seen_deer = pd.read_pickle(save_dir + \"top_hits_Averoy_seen_deer.pkl\")\n",
    "top_hits_Tingvoll_seen_deer = pd.read_pickle(\n",
    "    save_dir + \"top_hits_Tingvoll_seen_deer.pkl\"\n",
    ")\n",
    "top_hits_Surnadal_seen_deer = pd.read_pickle(\n",
    "    save_dir + \"top_hits_Surnadal_seen_deer.pkl\"\n",
    ")\n",
    "top_hits_Sunndal_seen_deer = pd.read_pickle(save_dir + \"top_hits_Sunndal_seen_deer.pkl\")\n",
    "top_hits_Vestnes_seen_deer = pd.read_pickle(save_dir + \"top_hits_Vestnes_seen_deer.pkl\")\n",
    "top_hits_Laerdal_seen_deer = pd.read_pickle(save_dir + \"top_hits_Laerdal_seen_deer.pkl\")"
   ]
  },
  {
   "cell_type": "code",
   "execution_count": 5,
   "id": "funded-minute",
   "metadata": {},
   "outputs": [],
   "source": [
    "# Data needed for plotting the figures below\n",
    "compare = \"before_hunt\"\n",
    "municipalities = [\"Averoy\", \"Tingvoll\", \"Surnadal\", \"Sunndal\", \"Vestnes\", \"Laerdal\"]\n",
    "data_municipality = [\n",
    "    data_Averoy,\n",
    "    data_Tingvoll,\n",
    "    data_Surnadal,\n",
    "    data_Sunndal,\n",
    "    data_Vestnes,\n",
    "    data_Laerdal,\n",
    "]\n",
    "top_hits_seen_deer = [\n",
    "    top_hits_Averoy_seen_deer,\n",
    "    top_hits_Tingvoll_seen_deer,\n",
    "    top_hits_Surnadal_seen_deer,\n",
    "    top_hits_Sunndal_seen_deer,\n",
    "    top_hits_Vestnes_seen_deer,\n",
    "    top_hits_Laerdal_seen_deer,\n",
    "]\n",
    "\n",
    "afont = {\"fontname\": \"Arial\"}"
   ]
  },
  {
   "cell_type": "markdown",
   "id": "e68d21b1-6367-4fe2-9f30-5602ef241d95",
   "metadata": {},
   "source": [
    "# Figure 7 - spread of the initial population structure figures"
   ]
  },
  {
   "cell_type": "code",
   "execution_count": 6,
   "id": "931d6d52-01aa-4141-b7db-9f92c24bf129",
   "metadata": {
    "tags": []
   },
   "outputs": [],
   "source": [
    "#Find all fraction values used originally\n",
    "initial_population = 1000\n",
    "initial_hinds_per_stag = np.arange(1.3, 2.1, 0.1)\n",
    "init_frac_calves = np.arange(0.2, 0.355, 0.01)\n",
    "init_frac_y_hinds = np.arange(0.09, 0.275, 0.01)  # of total number hinds\n",
    "init_frac_y_stags = np.arange(0.18, 0.545, 0.02)  # of total number stags\n",
    "\n",
    "all_initial_states = np.array(\n",
    "    np.meshgrid(\n",
    "        initial_population,\n",
    "        initial_hinds_per_stag,\n",
    "        init_frac_calves,\n",
    "        init_frac_y_hinds,\n",
    "        init_frac_y_stags,\n",
    "    )\n",
    ").T.reshape(-1, 5)"
   ]
  },
  {
   "cell_type": "code",
   "execution_count": 7,
   "id": "0382a085-f7cd-4279-babe-f22047c11812",
   "metadata": {
    "tags": []
   },
   "outputs": [],
   "source": [
    "def calculate_initial_size_of_each_category(population_data):\n",
    "    # Using a revised version of the original initial structure generator\n",
    "    total_number_calves = population_data[0] * population_data[2]\n",
    "    total_number_adults = population_data[0] * (1 - population_data[2])\n",
    "    total_number_stags = total_number_adults / (population_data[1] + 1)\n",
    "    total_number_hinds = total_number_adults - total_number_stags\n",
    "\n",
    "    female_calves_survivors = total_number_calves / 2\n",
    "    male_calves_survivors = total_number_calves / 2\n",
    "\n",
    "    young_hinds_survivors = total_number_hinds * population_data[3]\n",
    "    adult_hinds_survivors = total_number_hinds - young_hinds_survivors\n",
    "\n",
    "    young_stags_survivors = total_number_stags * population_data[4]\n",
    "    adult_stags_survivors = total_number_stags - young_stags_survivors\n",
    "    return (\n",
    "        female_calves_survivors,\n",
    "        young_hinds_survivors,\n",
    "        adult_hinds_survivors,\n",
    "        male_calves_survivors,\n",
    "        young_stags_survivors,\n",
    "        adult_stags_survivors,\n",
    "    )"
   ]
  },
  {
   "cell_type": "code",
   "execution_count": 8,
   "id": "f0d3e120-6b4a-473c-af78-600d0b4fbed5",
   "metadata": {
    "tags": []
   },
   "outputs": [
    {
     "data": {
      "text/plain": [
       "(46208, 6)"
      ]
     },
     "execution_count": 8,
     "metadata": {},
     "output_type": "execute_result"
    }
   ],
   "source": [
    "# Find the min and max fraction values for all six categories\n",
    "number_category = np.zeros((all_initial_states.shape[0],6))\n",
    "fraction_category = np.zeros((all_initial_states.shape[0],6))\n",
    "for i in range(all_initial_states.shape[0]):\n",
    "    number_category[i,:] = calculate_initial_size_of_each_category(all_initial_states[i,:])\n",
    "    fraction_category[i,:] = number_category[i,:] / all_initial_states[i,0]\n",
    "fraction_category.shape\n",
    "min_fraction = np.min(fraction_category, axis=0)\n",
    "max_fraction = np.max(fraction_category, axis=0)"
   ]
  },
  {
   "cell_type": "code",
   "execution_count": 9,
   "id": "9f5ae763-03d1-4eb0-b38b-c5d51f25cb4b",
   "metadata": {
    "tags": []
   },
   "outputs": [],
   "source": [
    "def plot_init_pop_structure():\n",
    "    fig, ax = plt.subplots(ncols=2, nrows=3, figsize=(12,8))\n",
    "    init_fractions = np.zeros((20,6))\n",
    "    municipalities = [\"Averøy   \",\"Tingvoll   \", \"Surnadal   \", \"Sunndal   \", \"Vestnes   \", \"Lærdal   \"]\n",
    "    counter = 0\n",
    "    for q in range(3):\n",
    "        for j in range(2):\n",
    "            # Extract all 6 targeted parameters associated with the top hit and make fraction\n",
    "            parameters = top_hits_seen_deer[counter].iloc[:,3:9].values\n",
    "            init_pop = top_hits_seen_deer[counter].iloc[:,0].values\n",
    "            for i in range(len(top_hits_seen_deer[counter])):\n",
    "                init_fractions[i,:] = parameters[i,:] / init_pop[i]\n",
    "            \n",
    "            # Adding normalized init_pop to the above array\n",
    "            mean_init_pop = np.mean(init_pop)\n",
    "            min_init_pop = 900 * (0.25 / mean_init_pop)\n",
    "            scaled_min_fraction = np.insert(min_fraction, 0, min_init_pop)\n",
    "            max_init_pop = 4000 * (0.25 / mean_init_pop)\n",
    "            scaled_max_fraction = np.insert(max_fraction, 0, max_init_pop)\n",
    "            \n",
    "            init_pop_scaled = init_pop * (0.25 / mean_init_pop)\n",
    "            init_fractions_new = np.c_[init_pop_scaled, init_fractions]\n",
    "            \n",
    "            y = np.arange(1,8)\n",
    "            ax[q,j].boxplot(init_fractions_new[:][:])\n",
    "            ax[q,j].plot(y,scaled_min_fraction,'b*')\n",
    "            ax[q,j].plot(y,scaled_max_fraction,'r*')\n",
    "            ax[q,j].margins(x=0.01)\n",
    "            \n",
    "            no_text = [\"\"] * 7\n",
    "            if (counter != 4) & (counter != 5):\n",
    "                ax[q,j].set_xticks(y)\n",
    "                ax[q,j].set_xticklabels(no_text)\n",
    "            else:\n",
    "                ax[q,j].set_xticks(y)\n",
    "                ax[q,j].set_xticklabels([\"init_pop\", \"f_calves\", \"y_hinds\", \"a_hinds\", \"m_calves\", \"y_stags\", \"a_stags\"], rotation=\"vertical\", fontsize=12, **afont)\n",
    "            if (counter == 0) | (counter == 2) | (counter == 4):\n",
    "                ax[q,j].set_ylabel(\"Initial population fractions\", fontsize=12, **afont)\n",
    "            ax[q,j].set_title(municipalities[counter], y=0.8, loc=\"right\", fontsize=14, **afont)\n",
    "            counter = counter + 1\n",
    "    fig.tight_layout()\n",
    "    save_dir = \"figures/\"\n",
    "    plt.savefig(save_dir + \"Figure_7.pdf\", dpi=600, bbox_inches=\"tight\")\n",
    "    pass;\n",
    "    return"
   ]
  },
  {
   "cell_type": "code",
   "execution_count": 10,
   "id": "6dbc3e98-0834-4dc1-88c6-8c99dbf0b353",
   "metadata": {
    "tags": []
   },
   "outputs": [
    {
     "data": {
      "image/png": "[encoded data removed]",
      "text/plain": [
       "<Figure size 864x576 with 6 Axes>"
      ]
     },
     "metadata": {
      "needs_background": "light"
     },
     "output_type": "display_data"
    }
   ],
   "source": [
    "plot_init_pop_structure()"
   ]
  },
  {
   "cell_type": "markdown",
   "id": "020c1a8f-a65a-49db-8456-04d09cf1244c",
   "metadata": {},
   "source": [
    "# Calculating explained variance in tot_pop_ah by initial conditions"
   ]
  },
  {
   "cell_type": "code",
   "execution_count": 11,
   "id": "0ccc40b2-34a1-4ade-9e5c-275b4ff1e8f4",
   "metadata": {
    "tags": []
   },
   "outputs": [
    {
     "name": "stdout",
     "output_type": "stream",
     "text": [
      "Explained variance by init_pop: 0.31553714130709565  -  Averoy\n",
      "\n",
      "Explained variance by [init_pop, i_fcalves, i_yhinds, i_ahinds, i_mcalves, i_ystags, i_astags] :  0.5438812053638615  -  Averoy\n",
      "\n",
      "@@@@@@@@@@@@@@@@@@@@@@@@@@@@@@@@@@@@@@@@@@@@@@@@@@@@@@@@@@@@@@@@@@\n",
      "\n",
      "Explained variance by init_pop: 0.1331952759595253  -  Tingvoll\n",
      "\n",
      "Explained variance by [init_pop, i_fcalves, i_yhinds, i_ahinds, i_mcalves, i_ystags, i_astags] :  0.3503434165898125  -  Tingvoll\n",
      "\n",
      "@@@@@@@@@@@@@@@@@@@@@@@@@@@@@@@@@@@@@@@@@@@@@@@@@@@@@@@@@@@@@@@@@@\n",
      "\n",
      "Explained variance by init_pop: 0.01801329142480035  -  Surnadal\n",
      "\n",
      "Explained variance by [init_pop, i_fcalves, i_yhinds, i_ahinds, i_mcalves, i_ystags, i_astags] :  0.2498131516047546  -  Surnadal\n",
      "\n",
      "@@@@@@@@@@@@@@@@@@@@@@@@@@@@@@@@@@@@@@@@@@@@@@@@@@@@@@@@@@@@@@@@@@\n",
      "\n",
      "Explained variance by init_pop: 0.33947997976964917  -  Sunndal\n",
      "\n",
      "Explained variance by [init_pop, i_fcalves, i_yhinds, i_ahinds, i_mcalves, i_ystags, i_astags] :  0.4894660332033154  -  Sunndal\n",
      "\n",
      "@@@@@@@@@@@@@@@@@@@@@@@@@@@@@@@@@@@@@@@@@@@@@@@@@@@@@@@@@@@@@@@@@@\n",
      "\n",
      "Explained variance by init_pop: 0.16835156817059382  -  Vestnes\n",
      "\n",
      "Explained variance by [init_pop, i_fcalves, i_yhinds, i_ahinds, i_mcalves, i_ystags, i_astags] :  0.3794059551360762  -  Vestnes\n",
      "\n",
      "@@@@@@@@@@@@@@@@@@@@@@@@@@@@@@@@@@@@@@@@@@@@@@@@@@@@@@@@@@@@@@@@@@\n",
      "\n",
      "Explained variance by init_pop: 0.062462316767304626  -  Laerdal\n",
      "\n",
      "Explained variance by [init_pop, i_fcalves, i_yhinds, i_ahinds, i_mcalves, i_ystags, i_astags] :  0.25741353597893535  -  Laerdal\n",
      "\n",
      "@@@@@@@@@@@@@@@@@@@@@@@@@@@@@@@@@@@@@@@@@@@@@@@@@@@@@@@@@@@@@@@@@@\n",
      "\n"
     ]
    }
   ],
   "source": [
    "q = 0\n",
    "for municipality in municipalities:\n",
    "    X = top_hits_seen_deer[q][['init_pop']]\n",
    "    y = top_hits_seen_deer[q]['tot_pop_ah']\n",
    "    model = LinearRegression().fit(X,y)\n",
    "    r_sq = model.score(X,y)\n",
    "    print(\"Explained variance by init_pop:\",r_sq, \" - \", municipality)\n",
    "    print()\n",
    "    \n",
    "    X = top_hits_seen_deer[q][['init_pop', 'i_fcalves', 'i_yhinds', 'i_ahinds', 'i_mcalves', 'i_ystags', 'i_astags']]\n",
    "    y = top_hits_seen_deer[q]['tot_pop_ah']\n",
    "    model = LinearRegression().fit(X,y)\n",
    "    r_sq = model.score(X,y)\n",
    "    print(\"Explained variance by [init_pop, i_fcalves, i_yhinds, i_ahinds, i_mcalves, i_ystags, i_astags] : \",r_sq, \" - \", municipality)\n",
    "    print()\n",
    "    print('@@@@@@@@@@@@@@@@@@@@@@@@@@@@@@@@@@@@@@@@@@@@@@@@@@@@@@@@@@@@@@@@@@')\n",
    "    print()\n",
    "    q = q + 1"
   ]
  },
  {
   "cell_type": "code",
   "execution_count": null,
   "id": "5f08449c-cd3f-434f-97d4-5d8c33c49081",
   "metadata": {},
   "outputs": [],
   "source": []
  }
 ],
 "metadata": {
  "kernelspec": {
   "display_name": "Python 3",
   "language": "python",
   "name": "python3"
  },
  "language_info": {
   "codemirror_mode": {
    "name": "ipython",
    "version": 3
   },
   "file_extension": ".py",
   "mimetype": "text/x-python",
   "name": "python",
   "nbconvert_exporter": "python",
   "pygments_lexer": "ipython3",
   "version": "3.8.5"
  }
 },
 "nbformat": 4,
 "nbformat_minor": 5
}
